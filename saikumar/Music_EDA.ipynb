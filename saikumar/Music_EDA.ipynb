{
  "nbformat": 4,
  "nbformat_minor": 0,
  "metadata": {
    "kernelspec": {
      "display_name": "Python 3",
      "language": "python",
      "name": "python3"
    },
    "language_info": {
      "codemirror_mode": {
        "name": "ipython",
        "version": 3
      },
      "file_extension": ".py",
      "mimetype": "text/x-python",
      "name": "python",
      "nbconvert_exporter": "python",
      "pygments_lexer": "ipython3",
      "version": "3.6.4"
    },
    "colab": {
      "name": "Music_EDA.ipynb",
      "provenance": [],
      "collapsed_sections": [],
      "toc_visible": true
    }
  },
  "cells": [
    {
      "cell_type": "code",
      "metadata": {
        "id": "6KifBTYdatj3"
      },
      "source": [
        "import warnings\n",
        "warnings.filterwarnings('ignore')"
      ],
      "execution_count": 2,
      "outputs": []
    },
    {
      "cell_type": "code",
      "metadata": {
        "id": "Qa-_a3DMatkD"
      },
      "source": [
        "import numpy as np\n",
        "import pandas as pd\n",
        "import matplotlib.pyplot as plt\n",
        "import seaborn as sns\n",
        "\n",
        "import os\n",
        "import random\n",
        "from datetime import datetime\n",
        "from scipy import sparse\n",
        "from scipy.sparse import csr_matrix\n",
        "\n",
        "from sklearn.decomposition import TruncatedSVD\n",
        "from sklearn.metrics.pairwise import cosine_similarity"
      ],
      "execution_count": 3,
      "outputs": []
    },
    {
      "cell_type": "code",
      "metadata": {
        "colab": {
          "base_uri": "https://localhost:8080/",
          "height": 203
        },
        "id": "oVjPcUn_atkF",
        "outputId": "f147dddf-78ee-481b-ca32-af3ffbb8728f"
      },
      "source": [
        "df = pd.read_csv('/content/drive/MyDrive/Colab Notebooks/data sets/data/kaggle/kaggle_visible_evaluation_triplets.txt',sep='\\t',names=['user_id','song_id','freq'])\n",
        "df.head()"
      ],
      "execution_count": 4,
      "outputs": [
        {
          "output_type": "execute_result",
          "data": {
            "text/html": [
              "<div>\n",
              "<style scoped>\n",
              "    .dataframe tbody tr th:only-of-type {\n",
              "        vertical-align: middle;\n",
              "    }\n",
              "\n",
              "    .dataframe tbody tr th {\n",
              "        vertical-align: top;\n",
              "    }\n",
              "\n",
              "    .dataframe thead th {\n",
              "        text-align: right;\n",
              "    }\n",
              "</style>\n",
              "<table border=\"1\" class=\"dataframe\">\n",
              "  <thead>\n",
              "    <tr style=\"text-align: right;\">\n",
              "      <th></th>\n",
              "      <th>user_id</th>\n",
              "      <th>song_id</th>\n",
              "      <th>freq</th>\n",
              "    </tr>\n",
              "  </thead>\n",
              "  <tbody>\n",
              "    <tr>\n",
              "      <th>0</th>\n",
              "      <td>fd50c4007b68a3737fe052d5a4f78ce8aa117f3d</td>\n",
              "      <td>SOBONKR12A58A7A7E0</td>\n",
              "      <td>1</td>\n",
              "    </tr>\n",
              "    <tr>\n",
              "      <th>1</th>\n",
              "      <td>fd50c4007b68a3737fe052d5a4f78ce8aa117f3d</td>\n",
              "      <td>SOEGIYH12A6D4FC0E3</td>\n",
              "      <td>1</td>\n",
              "    </tr>\n",
              "    <tr>\n",
              "      <th>2</th>\n",
              "      <td>fd50c4007b68a3737fe052d5a4f78ce8aa117f3d</td>\n",
              "      <td>SOFLJQZ12A6D4FADA6</td>\n",
              "      <td>1</td>\n",
              "    </tr>\n",
              "    <tr>\n",
              "      <th>3</th>\n",
              "      <td>fd50c4007b68a3737fe052d5a4f78ce8aa117f3d</td>\n",
              "      <td>SOHTKMO12AB01843B0</td>\n",
              "      <td>1</td>\n",
              "    </tr>\n",
              "    <tr>\n",
              "      <th>4</th>\n",
              "      <td>fd50c4007b68a3737fe052d5a4f78ce8aa117f3d</td>\n",
              "      <td>SODQZCY12A6D4F9D11</td>\n",
              "      <td>1</td>\n",
              "    </tr>\n",
              "  </tbody>\n",
              "</table>\n",
              "</div>"
            ],
            "text/plain": [
              "                                    user_id             song_id  freq\n",
              "0  fd50c4007b68a3737fe052d5a4f78ce8aa117f3d  SOBONKR12A58A7A7E0     1\n",
              "1  fd50c4007b68a3737fe052d5a4f78ce8aa117f3d  SOEGIYH12A6D4FC0E3     1\n",
              "2  fd50c4007b68a3737fe052d5a4f78ce8aa117f3d  SOFLJQZ12A6D4FADA6     1\n",
              "3  fd50c4007b68a3737fe052d5a4f78ce8aa117f3d  SOHTKMO12AB01843B0     1\n",
              "4  fd50c4007b68a3737fe052d5a4f78ce8aa117f3d  SODQZCY12A6D4F9D11     1"
            ]
          },
          "metadata": {
            "tags": []
          },
          "execution_count": 4
        }
      ]
    },
    {
      "cell_type": "code",
      "metadata": {
        "colab": {
          "base_uri": "https://localhost:8080/"
        },
        "id": "d-scu2AAdvQc",
        "outputId": "8fddff51-e528-4f73-934a-1ca2f6cbe607"
      },
      "source": [
        "from google.colab import drive\n",
        "drive.mount('/content/drive')"
      ],
      "execution_count": 5,
      "outputs": [
        {
          "output_type": "stream",
          "text": [
            "Drive already mounted at /content/drive; to attempt to forcibly remount, call drive.mount(\"/content/drive\", force_remount=True).\n"
          ],
          "name": "stdout"
        }
      ]
    },
    {
      "cell_type": "code",
      "metadata": {
        "colab": {
          "base_uri": "https://localhost:8080/",
          "height": 295
        },
        "id": "OmNr6LN6atkL",
        "outputId": "a099fe2c-c733-4276-d344-bc44f66442ea"
      },
      "source": [
        "df.describe()"
      ],
      "execution_count": 6,
      "outputs": [
        {
          "output_type": "execute_result",
          "data": {
            "text/html": [
              "<div>\n",
              "<style scoped>\n",
              "    .dataframe tbody tr th:only-of-type {\n",
              "        vertical-align: middle;\n",
              "    }\n",
              "\n",
              "    .dataframe tbody tr th {\n",
              "        vertical-align: top;\n",
              "    }\n",
              "\n",
              "    .dataframe thead th {\n",
              "        text-align: right;\n",
              "    }\n",
              "</style>\n",
              "<table border=\"1\" class=\"dataframe\">\n",
              "  <thead>\n",
              "    <tr style=\"text-align: right;\">\n",
              "      <th></th>\n",
              "      <th>freq</th>\n",
              "    </tr>\n",
              "  </thead>\n",
              "  <tbody>\n",
              "    <tr>\n",
              "      <th>count</th>\n",
              "      <td>1.450933e+06</td>\n",
              "    </tr>\n",
              "    <tr>\n",
              "      <th>mean</th>\n",
              "      <td>3.187149e+00</td>\n",
              "    </tr>\n",
              "    <tr>\n",
              "      <th>std</th>\n",
              "      <td>7.051664e+00</td>\n",
              "    </tr>\n",
              "    <tr>\n",
              "      <th>min</th>\n",
              "      <td>1.000000e+00</td>\n",
              "    </tr>\n",
              "    <tr>\n",
              "      <th>25%</th>\n",
              "      <td>1.000000e+00</td>\n",
              "    </tr>\n",
              "    <tr>\n",
              "      <th>50%</th>\n",
              "      <td>1.000000e+00</td>\n",
              "    </tr>\n",
              "    <tr>\n",
              "      <th>75%</th>\n",
              "      <td>3.000000e+00</td>\n",
              "    </tr>\n",
              "    <tr>\n",
              "      <th>max</th>\n",
              "      <td>9.230000e+02</td>\n",
              "    </tr>\n",
              "  </tbody>\n",
              "</table>\n",
              "</div>"
            ],
            "text/plain": [
              "               freq\n",
              "count  1.450933e+06\n",
              "mean   3.187149e+00\n",
              "std    7.051664e+00\n",
              "min    1.000000e+00\n",
              "25%    1.000000e+00\n",
              "50%    1.000000e+00\n",
              "75%    3.000000e+00\n",
              "max    9.230000e+02"
            ]
          },
          "metadata": {
            "tags": []
          },
          "execution_count": 6
        }
      ]
    },
    {
      "cell_type": "code",
      "metadata": {
        "colab": {
          "base_uri": "https://localhost:8080/",
          "height": 203
        },
        "id": "ZLicylq1atkM",
        "outputId": "7adc7e67-892d-4163-b9bb-aa7baa59788f"
      },
      "source": [
        "detail_df = pd.read_csv('/content/drive/MyDrive/Colab Notebooks/data sets/data/kaggle/unique_tracks.txt',sep='<SEP>',names = ['track_id','song_id','artist_name','release'])\n",
        "detail_df.head()"
      ],
      "execution_count": 7,
      "outputs": [
        {
          "output_type": "execute_result",
          "data": {
            "text/html": [
              "<div>\n",
              "<style scoped>\n",
              "    .dataframe tbody tr th:only-of-type {\n",
              "        vertical-align: middle;\n",
              "    }\n",
              "\n",
              "    .dataframe tbody tr th {\n",
              "        vertical-align: top;\n",
              "    }\n",
              "\n",
              "    .dataframe thead th {\n",
              "        text-align: right;\n",
              "    }\n",
              "</style>\n",
              "<table border=\"1\" class=\"dataframe\">\n",
              "  <thead>\n",
              "    <tr style=\"text-align: right;\">\n",
              "      <th></th>\n",
              "      <th>track_id</th>\n",
              "      <th>song_id</th>\n",
              "      <th>artist_name</th>\n",
              "      <th>release</th>\n",
              "    </tr>\n",
              "  </thead>\n",
              "  <tbody>\n",
              "    <tr>\n",
              "      <th>0</th>\n",
              "      <td>TRMMMYQ128F932D901</td>\n",
              "      <td>SOQMMHC12AB0180CB8</td>\n",
              "      <td>Faster Pussy cat</td>\n",
              "      <td>Silent Night</td>\n",
              "    </tr>\n",
              "    <tr>\n",
              "      <th>1</th>\n",
              "      <td>TRMMMKD128F425225D</td>\n",
              "      <td>SOVFVAK12A8C1350D9</td>\n",
              "      <td>Karkkiautomaatti</td>\n",
              "      <td>Tanssi vaan</td>\n",
              "    </tr>\n",
              "    <tr>\n",
              "      <th>2</th>\n",
              "      <td>TRMMMRX128F93187D9</td>\n",
              "      <td>SOGTUKN12AB017F4F1</td>\n",
              "      <td>Hudson Mohawke</td>\n",
              "      <td>No One Could Ever</td>\n",
              "    </tr>\n",
              "    <tr>\n",
              "      <th>3</th>\n",
              "      <td>TRMMMCH128F425532C</td>\n",
              "      <td>SOBNYVR12A8C13558C</td>\n",
              "      <td>Yerba Brava</td>\n",
              "      <td>Si Vos Querés</td>\n",
              "    </tr>\n",
              "    <tr>\n",
              "      <th>4</th>\n",
              "      <td>TRMMMWA128F426B589</td>\n",
              "      <td>SOHSBXH12A8C13B0DF</td>\n",
              "      <td>Der Mystic</td>\n",
              "      <td>Tangle Of Aspens</td>\n",
              "    </tr>\n",
              "  </tbody>\n",
              "</table>\n",
              "</div>"
            ],
            "text/plain": [
              "             track_id             song_id       artist_name            release\n",
              "0  TRMMMYQ128F932D901  SOQMMHC12AB0180CB8  Faster Pussy cat       Silent Night\n",
              "1  TRMMMKD128F425225D  SOVFVAK12A8C1350D9  Karkkiautomaatti        Tanssi vaan\n",
              "2  TRMMMRX128F93187D9  SOGTUKN12AB017F4F1    Hudson Mohawke  No One Could Ever\n",
              "3  TRMMMCH128F425532C  SOBNYVR12A8C13558C       Yerba Brava      Si Vos Querés\n",
              "4  TRMMMWA128F426B589  SOHSBXH12A8C13B0DF        Der Mystic   Tangle Of Aspens"
            ]
          },
          "metadata": {
            "tags": []
          },
          "execution_count": 7
        }
      ]
    },
    {
      "cell_type": "code",
      "metadata": {
        "colab": {
          "base_uri": "https://localhost:8080/",
          "height": 203
        },
        "id": "P5-DrwolatkO",
        "outputId": "0625c5eb-99ce-462c-d796-8c37eb0db16e"
      },
      "source": [
        "detail_df.tail()"
      ],
      "execution_count": 8,
      "outputs": [
        {
          "output_type": "execute_result",
          "data": {
            "text/html": [
              "<div>\n",
              "<style scoped>\n",
              "    .dataframe tbody tr th:only-of-type {\n",
              "        vertical-align: middle;\n",
              "    }\n",
              "\n",
              "    .dataframe tbody tr th {\n",
              "        vertical-align: top;\n",
              "    }\n",
              "\n",
              "    .dataframe thead th {\n",
              "        text-align: right;\n",
              "    }\n",
              "</style>\n",
              "<table border=\"1\" class=\"dataframe\">\n",
              "  <thead>\n",
              "    <tr style=\"text-align: right;\">\n",
              "      <th></th>\n",
              "      <th>track_id</th>\n",
              "      <th>song_id</th>\n",
              "      <th>artist_name</th>\n",
              "      <th>release</th>\n",
              "    </tr>\n",
              "  </thead>\n",
              "  <tbody>\n",
              "    <tr>\n",
              "      <th>999995</th>\n",
              "      <td>TRYYYUS12903CD2DF0</td>\n",
              "      <td>SOTXAME12AB018F136</td>\n",
              "      <td>Kiko Navarro</td>\n",
              "      <td>O Samba Da Vida</td>\n",
              "    </tr>\n",
              "    <tr>\n",
              "      <th>999996</th>\n",
              "      <td>TRYYYJO128F426DA37</td>\n",
              "      <td>SOXQYIQ12A8C137FBB</td>\n",
              "      <td>Kuldeep Manak</td>\n",
              "      <td>Jago Chhadeo</td>\n",
              "    </tr>\n",
              "    <tr>\n",
              "      <th>999997</th>\n",
              "      <td>TRYYYMG128F4260ECA</td>\n",
              "      <td>SOHODZI12A8C137BB3</td>\n",
              "      <td>Gabriel Le Mar</td>\n",
              "      <td>Novemba</td>\n",
              "    </tr>\n",
              "    <tr>\n",
              "      <th>999998</th>\n",
              "      <td>TRYYYDJ128F9310A21</td>\n",
              "      <td>SOLXGOR12A81C21EB7</td>\n",
              "      <td>Elude</td>\n",
              "      <td>Faraday</td>\n",
              "    </tr>\n",
              "    <tr>\n",
              "      <th>999999</th>\n",
              "      <td>TRYYYVU12903CD01E3</td>\n",
              "      <td>SOWXJXQ12AB0189F43</td>\n",
              "      <td>Texta</td>\n",
              "      <td>Fernweh feat. Sektion Kuchikäschtli</td>\n",
              "    </tr>\n",
              "  </tbody>\n",
              "</table>\n",
              "</div>"
            ],
            "text/plain": [
              "                  track_id  ...                              release\n",
              "999995  TRYYYUS12903CD2DF0  ...                      O Samba Da Vida\n",
              "999996  TRYYYJO128F426DA37  ...                         Jago Chhadeo\n",
              "999997  TRYYYMG128F4260ECA  ...                              Novemba\n",
              "999998  TRYYYDJ128F9310A21  ...                              Faraday\n",
              "999999  TRYYYVU12903CD01E3  ...  Fernweh feat. Sektion Kuchikäschtli\n",
              "\n",
              "[5 rows x 4 columns]"
            ]
          },
          "metadata": {
            "tags": []
          },
          "execution_count": 8
        }
      ]
    },
    {
      "cell_type": "code",
      "metadata": {
        "colab": {
          "base_uri": "https://localhost:8080/"
        },
        "id": "XcD1BPWvatkQ",
        "outputId": "e82c0191-fe20-4bea-d89d-4541545c8621"
      },
      "source": [
        "duplicated = detail_df['song_id'].duplicated()\n",
        "sum(duplicated)"
      ],
      "execution_count": 9,
      "outputs": [
        {
          "output_type": "execute_result",
          "data": {
            "text/plain": [
              "944"
            ]
          },
          "metadata": {
            "tags": []
          },
          "execution_count": 9
        }
      ]
    },
    {
      "cell_type": "code",
      "metadata": {
        "id": "SsW_PWwRatkS"
      },
      "source": [
        "detail_df.drop_duplicates(subset =\"song_id\",keep = False,inplace = True)"
      ],
      "execution_count": 10,
      "outputs": []
    },
    {
      "cell_type": "code",
      "metadata": {
        "colab": {
          "base_uri": "https://localhost:8080/"
        },
        "id": "BF00Wx5jatkT",
        "outputId": "0494c494-f39c-496d-fc7e-1ca60c2ec2eb"
      },
      "source": [
        "duplicated = detail_df['song_id'].duplicated()\n",
        "sum(duplicated)"
      ],
      "execution_count": 11,
      "outputs": [
        {
          "output_type": "execute_result",
          "data": {
            "text/plain": [
              "0"
            ]
          },
          "metadata": {
            "tags": []
          },
          "execution_count": 11
        }
      ]
    },
    {
      "cell_type": "code",
      "metadata": {
        "colab": {
          "base_uri": "https://localhost:8080/",
          "height": 254
        },
        "id": "fbDrr_piatkV",
        "outputId": "b62a7e67-bca5-408a-bb54-651066419635"
      },
      "source": [
        "song_df = pd.merge(df,detail_df,how = \"left\" )\n",
        "song_df.head()"
      ],
      "execution_count": 12,
      "outputs": [
        {
          "output_type": "execute_result",
          "data": {
            "text/html": [
              "<div>\n",
              "<style scoped>\n",
              "    .dataframe tbody tr th:only-of-type {\n",
              "        vertical-align: middle;\n",
              "    }\n",
              "\n",
              "    .dataframe tbody tr th {\n",
              "        vertical-align: top;\n",
              "    }\n",
              "\n",
              "    .dataframe thead th {\n",
              "        text-align: right;\n",
              "    }\n",
              "</style>\n",
              "<table border=\"1\" class=\"dataframe\">\n",
              "  <thead>\n",
              "    <tr style=\"text-align: right;\">\n",
              "      <th></th>\n",
              "      <th>user_id</th>\n",
              "      <th>song_id</th>\n",
              "      <th>freq</th>\n",
              "      <th>track_id</th>\n",
              "      <th>artist_name</th>\n",
              "      <th>release</th>\n",
              "    </tr>\n",
              "  </thead>\n",
              "  <tbody>\n",
              "    <tr>\n",
              "      <th>0</th>\n",
              "      <td>fd50c4007b68a3737fe052d5a4f78ce8aa117f3d</td>\n",
              "      <td>SOBONKR12A58A7A7E0</td>\n",
              "      <td>1</td>\n",
              "      <td>TRAEHHJ12903CF492F</td>\n",
              "      <td>Dwight Yoakam</td>\n",
              "      <td>You're The One</td>\n",
              "    </tr>\n",
              "    <tr>\n",
              "      <th>1</th>\n",
              "      <td>fd50c4007b68a3737fe052d5a4f78ce8aa117f3d</td>\n",
              "      <td>SOEGIYH12A6D4FC0E3</td>\n",
              "      <td>1</td>\n",
              "      <td>TRLGMFJ128F4217DBE</td>\n",
              "      <td>Barry Tuckwell/Academy of St Martin-in-the-Fie...</td>\n",
              "      <td>Horn Concerto No. 4 in E flat K495: II. Romanc...</td>\n",
              "    </tr>\n",
              "    <tr>\n",
              "      <th>2</th>\n",
              "      <td>fd50c4007b68a3737fe052d5a4f78ce8aa117f3d</td>\n",
              "      <td>SOFLJQZ12A6D4FADA6</td>\n",
              "      <td>1</td>\n",
              "      <td>TRTNDNE128F1486812</td>\n",
              "      <td>Cartola</td>\n",
              "      <td>Tive Sim</td>\n",
              "    </tr>\n",
              "    <tr>\n",
              "      <th>3</th>\n",
              "      <td>fd50c4007b68a3737fe052d5a4f78ce8aa117f3d</td>\n",
              "      <td>SOHTKMO12AB01843B0</td>\n",
              "      <td>1</td>\n",
              "      <td>TRASTUE128F930D488</td>\n",
              "      <td>Lonnie Gordon</td>\n",
              "      <td>Catch You Baby (Steve Pitron &amp; Max Sanna Radio...</td>\n",
              "    </tr>\n",
              "    <tr>\n",
              "      <th>4</th>\n",
              "      <td>fd50c4007b68a3737fe052d5a4f78ce8aa117f3d</td>\n",
              "      <td>SODQZCY12A6D4F9D11</td>\n",
              "      <td>1</td>\n",
              "      <td>TRFPLWO128F1486B9E</td>\n",
              "      <td>Miguel Calo</td>\n",
              "      <td>El Cuatrero</td>\n",
              "    </tr>\n",
              "  </tbody>\n",
              "</table>\n",
              "</div>"
            ],
            "text/plain": [
              "                                    user_id  ...                                            release\n",
              "0  fd50c4007b68a3737fe052d5a4f78ce8aa117f3d  ...                                     You're The One\n",
              "1  fd50c4007b68a3737fe052d5a4f78ce8aa117f3d  ...  Horn Concerto No. 4 in E flat K495: II. Romanc...\n",
              "2  fd50c4007b68a3737fe052d5a4f78ce8aa117f3d  ...                                           Tive Sim\n",
              "3  fd50c4007b68a3737fe052d5a4f78ce8aa117f3d  ...  Catch You Baby (Steve Pitron & Max Sanna Radio...\n",
              "4  fd50c4007b68a3737fe052d5a4f78ce8aa117f3d  ...                                        El Cuatrero\n",
              "\n",
              "[5 rows x 6 columns]"
            ]
          },
          "metadata": {
            "tags": []
          },
          "execution_count": 12
        }
      ]
    },
    {
      "cell_type": "markdown",
      "metadata": {
        "id": "KZhT4OCUatkX"
      },
      "source": [
        "## basic stats"
      ]
    },
    {
      "cell_type": "code",
      "metadata": {
        "colab": {
          "base_uri": "https://localhost:8080/"
        },
        "id": "udfecDNFatkZ",
        "outputId": "c8446f7b-0cc3-4632-cfcd-c06d016e2fd4"
      },
      "source": [
        "print('Total data points ;', song_df.shape[0])\n",
        "print('Total number of users ;', song_df['user_id'].unique().shape[0])\n",
        "print('Total number of songs ;', song_df['song_id'].unique().shape[0])\n",
        "print('Total number of tracks ;', song_df['track_id'].unique().shape[0])\n",
        "print('Number of Unique Release ;', song_df['release'].unique().shape[0])\n",
        "print('Number of Unique artists ;', song_df['artist_name'].unique().shape[0])\n"
      ],
      "execution_count": 13,
      "outputs": [
        {
          "output_type": "stream",
          "text": [
            "Total data points ; 1450933\n",
            "Total number of users ; 110000\n",
            "Total number of songs ; 163206\n",
            "Total number of tracks ; 162620\n",
            "Number of Unique Release ; 137239\n",
            "Number of Unique artists ; 28338\n"
          ],
          "name": "stdout"
        }
      ]
    },
    {
      "cell_type": "code",
      "metadata": {
        "id": "8HcaRQ7Hatkb"
      },
      "source": [
        "song_df = song_df.drop('track_id',1)"
      ],
      "execution_count": 14,
      "outputs": []
    },
    {
      "cell_type": "markdown",
      "metadata": {
        "id": "BudfG3_iatkc"
      },
      "source": [
        "## Distribution of Frequency"
      ]
    },
    {
      "cell_type": "code",
      "metadata": {
        "colab": {
          "base_uri": "https://localhost:8080/",
          "height": 279
        },
        "id": "rXy5kp2Satkd",
        "outputId": "b9a93e3f-b1dc-4cd6-ed78-6d9358ac875f"
      },
      "source": [
        "sns.distplot(song_df['freq'])\n",
        "\n",
        "plt.xlabel('Frequency')\n",
        "plt.ylabel('Density')\n",
        "plt.show() "
      ],
      "execution_count": 15,
      "outputs": [
        {
          "output_type": "display_data",
          "data": {
            "image/png": "[encoded data removed]",
            "text/plain": [
              "<Figure size 432x288 with 1 Axes>"
            ]
          },
          "metadata": {
            "tags": [],
            "needs_background": "light"
          }
        }
      ]
    },
    {
      "cell_type": "code",
      "metadata": {
        "colab": {
          "base_uri": "https://localhost:8080/",
          "height": 279
        },
        "id": "JX8tJMUCatkf",
        "outputId": "1c60cc21-c40c-4603-fa15-6f0df135e41b"
      },
      "source": [
        "\n",
        "sns.kdeplot(data = song_df['freq']);"
      ],
      "execution_count": 16,
      "outputs": [
        {
          "output_type": "display_data",
          "data": {
            "image/png": "[encoded data removed]",
            "text/plain": [
              "<Figure size 432x288 with 1 Axes>"
            ]
          },
          "metadata": {
            "tags": [],
            "needs_background": "light"
          }
        }
      ]
    },
    {
      "cell_type": "markdown",
      "metadata": {
        "id": "Z6Eou5Bfatkg"
      },
      "source": [
        "##  Number of songs listened per user"
      ]
    },
    {
      "cell_type": "code",
      "metadata": {
        "id": "iKSf9oUIatkh"
      },
      "source": [
        "songs_per_user = song_df.groupby('user_id')['freq'].agg(['count'])\n"
      ],
      "execution_count": 17,
      "outputs": []
    },
    {
      "cell_type": "code",
      "metadata": {
        "colab": {
          "base_uri": "https://localhost:8080/",
          "height": 234
        },
        "id": "aDh6Gj1qatki",
        "outputId": "906eaf48-99fa-4954-d02d-4cda9a3adc8a"
      },
      "source": [
        "songs_per_user.head()"
      ],
      "execution_count": 18,
      "outputs": [
        {
          "output_type": "execute_result",
          "data": {
            "text/html": [
              "<div>\n",
              "<style scoped>\n",
              "    .dataframe tbody tr th:only-of-type {\n",
              "        vertical-align: middle;\n",
              "    }\n",
              "\n",
              "    .dataframe tbody tr th {\n",
              "        vertical-align: top;\n",
              "    }\n",
              "\n",
              "    .dataframe thead th {\n",
              "        text-align: right;\n",
              "    }\n",
              "</style>\n",
              "<table border=\"1\" class=\"dataframe\">\n",
              "  <thead>\n",
              "    <tr style=\"text-align: right;\">\n",
              "      <th></th>\n",
              "      <th>count</th>\n",
              "    </tr>\n",
              "    <tr>\n",
              "      <th>user_id</th>\n",
              "      <th></th>\n",
              "    </tr>\n",
              "  </thead>\n",
              "  <tbody>\n",
              "    <tr>\n",
              "      <th>00007a02388c208ea7176479f6ae06f8224355b3</th>\n",
              "      <td>9</td>\n",
              "    </tr>\n",
              "    <tr>\n",
              "      <th>00014a76ed063e1a749171a253bca9d9a0ff1782</th>\n",
              "      <td>11</td>\n",
              "    </tr>\n",
              "    <tr>\n",
              "      <th>00015189668691680bb1a2e58afde1541ec92ced</th>\n",
              "      <td>17</td>\n",
              "    </tr>\n",
              "    <tr>\n",
              "      <th>0001ff7aa2667c8d8b945317b88adaed1c0b9dc2</th>\n",
              "      <td>9</td>\n",
              "    </tr>\n",
              "    <tr>\n",
              "      <th>00020fcd8b01986a6a85b896ccde6c49f35142ad</th>\n",
              "      <td>32</td>\n",
              "    </tr>\n",
              "  </tbody>\n",
              "</table>\n",
              "</div>"
            ],
            "text/plain": [
              "                                          count\n",
              "user_id                                        \n",
              "00007a02388c208ea7176479f6ae06f8224355b3      9\n",
              "00014a76ed063e1a749171a253bca9d9a0ff1782     11\n",
              "00015189668691680bb1a2e58afde1541ec92ced     17\n",
              "0001ff7aa2667c8d8b945317b88adaed1c0b9dc2      9\n",
              "00020fcd8b01986a6a85b896ccde6c49f35142ad     32"
            ]
          },
          "metadata": {
            "tags": []
          },
          "execution_count": 18
        }
      ]
    },
    {
      "cell_type": "code",
      "metadata": {
        "colab": {
          "base_uri": "https://localhost:8080/",
          "height": 234
        },
        "id": "yMK04_6watkj",
        "outputId": "00671526-00f6-4fe8-d812-9ad478188d04"
      },
      "source": [
        "songs_per_user.sort_values(by = 'count').head()"
      ],
      "execution_count": 19,
      "outputs": [
        {
          "output_type": "execute_result",
          "data": {
            "text/html": [
              "<div>\n",
              "<style scoped>\n",
              "    .dataframe tbody tr th:only-of-type {\n",
              "        vertical-align: middle;\n",
              "    }\n",
              "\n",
              "    .dataframe tbody tr th {\n",
              "        vertical-align: top;\n",
              "    }\n",
              "\n",
              "    .dataframe thead th {\n",
              "        text-align: right;\n",
              "    }\n",
              "</style>\n",
              "<table border=\"1\" class=\"dataframe\">\n",
              "  <thead>\n",
              "    <tr style=\"text-align: right;\">\n",
              "      <th></th>\n",
              "      <th>count</th>\n",
              "    </tr>\n",
              "    <tr>\n",
              "      <th>user_id</th>\n",
              "      <th></th>\n",
              "    </tr>\n",
              "  </thead>\n",
              "  <tbody>\n",
              "    <tr>\n",
              "      <th>336c306c5df497a9cb4067c14d5b840ba1a1e272</th>\n",
              "      <td>5</td>\n",
              "    </tr>\n",
              "    <tr>\n",
              "      <th>47b83637c7726c40218552445e1dc9b906f0ad6d</th>\n",
              "      <td>5</td>\n",
              "    </tr>\n",
              "    <tr>\n",
              "      <th>5519a61514f2248435a70afad322568c1a1173eb</th>\n",
              "      <td>5</td>\n",
              "    </tr>\n",
              "    <tr>\n",
              "      <th>ae7a9eaf03f35908b8ffc420241f99e9c6057bf2</th>\n",
              "      <td>5</td>\n",
              "    </tr>\n",
              "    <tr>\n",
              "      <th>18cb5d68334667324a9bac0a66f6579f34f43a31</th>\n",
              "      <td>5</td>\n",
              "    </tr>\n",
              "  </tbody>\n",
              "</table>\n",
              "</div>"
            ],
            "text/plain": [
              "                                          count\n",
              "user_id                                        \n",
              "336c306c5df497a9cb4067c14d5b840ba1a1e272      5\n",
              "47b83637c7726c40218552445e1dc9b906f0ad6d      5\n",
              "5519a61514f2248435a70afad322568c1a1173eb      5\n",
              "ae7a9eaf03f35908b8ffc420241f99e9c6057bf2      5\n",
              "18cb5d68334667324a9bac0a66f6579f34f43a31      5"
            ]
          },
          "metadata": {
            "tags": []
          },
          "execution_count": 19
        }
      ]
    },
    {
      "cell_type": "code",
      "metadata": {
        "colab": {
          "base_uri": "https://localhost:8080/",
          "height": 234
        },
        "id": "gvzp18Lqatkk",
        "outputId": "72370605-5deb-465e-f093-46df73acbd83"
      },
      "source": [
        "songs_per_user.sort_values(by = 'count').tail()"
      ],
      "execution_count": 20,
      "outputs": [
        {
          "output_type": "execute_result",
          "data": {
            "text/html": [
              "<div>\n",
              "<style scoped>\n",
              "    .dataframe tbody tr th:only-of-type {\n",
              "        vertical-align: middle;\n",
              "    }\n",
              "\n",
              "    .dataframe tbody tr th {\n",
              "        vertical-align: top;\n",
              "    }\n",
              "\n",
              "    .dataframe thead th {\n",
              "        text-align: right;\n",
              "    }\n",
              "</style>\n",
              "<table border=\"1\" class=\"dataframe\">\n",
              "  <thead>\n",
              "    <tr style=\"text-align: right;\">\n",
              "      <th></th>\n",
              "      <th>count</th>\n",
              "    </tr>\n",
              "    <tr>\n",
              "      <th>user_id</th>\n",
              "      <th></th>\n",
              "    </tr>\n",
              "  </thead>\n",
              "  <tbody>\n",
              "    <tr>\n",
              "      <th>0f8308935bcbb9a1e04ebb7c4d41c037e5f23b90</th>\n",
              "      <td>52</td>\n",
              "    </tr>\n",
              "    <tr>\n",
              "      <th>03ad93fdb01506ce205f4708decf8e4b1ae90fff</th>\n",
              "      <td>52</td>\n",
              "    </tr>\n",
              "    <tr>\n",
              "      <th>016a24e91a72c159a5048ab1b9b2ba5ce761b526</th>\n",
              "      <td>52</td>\n",
              "    </tr>\n",
              "    <tr>\n",
              "      <th>d30e18323f15426c3cdc8585252ed34459916f51</th>\n",
              "      <td>52</td>\n",
              "    </tr>\n",
              "    <tr>\n",
              "      <th>7d90be8dfdbde170f036ce8a4b915440137cb11c</th>\n",
              "      <td>53</td>\n",
              "    </tr>\n",
              "  </tbody>\n",
              "</table>\n",
              "</div>"
            ],
            "text/plain": [
              "                                          count\n",
              "user_id                                        \n",
              "0f8308935bcbb9a1e04ebb7c4d41c037e5f23b90     52\n",
              "03ad93fdb01506ce205f4708decf8e4b1ae90fff     52\n",
              "016a24e91a72c159a5048ab1b9b2ba5ce761b526     52\n",
              "d30e18323f15426c3cdc8585252ed34459916f51     52\n",
              "7d90be8dfdbde170f036ce8a4b915440137cb11c     53"
            ]
          },
          "metadata": {
            "tags": []
          },
          "execution_count": 20
        }
      ]
    },
    {
      "cell_type": "code",
      "metadata": {
        "colab": {
          "base_uri": "https://localhost:8080/",
          "height": 295
        },
        "id": "3uG5E8Hratkl",
        "outputId": "af278a9e-9527-4a06-cc55-47c4f9d69768"
      },
      "source": [
        "songs_per_user.describe()"
      ],
      "execution_count": 21,
      "outputs": [
        {
          "output_type": "execute_result",
          "data": {
            "text/html": [
              "<div>\n",
              "<style scoped>\n",
              "    .dataframe tbody tr th:only-of-type {\n",
              "        vertical-align: middle;\n",
              "    }\n",
              "\n",
              "    .dataframe tbody tr th {\n",
              "        vertical-align: top;\n",
              "    }\n",
              "\n",
              "    .dataframe thead th {\n",
              "        text-align: right;\n",
              "    }\n",
              "</style>\n",
              "<table border=\"1\" class=\"dataframe\">\n",
              "  <thead>\n",
              "    <tr style=\"text-align: right;\">\n",
              "      <th></th>\n",
              "      <th>count</th>\n",
              "    </tr>\n",
              "  </thead>\n",
              "  <tbody>\n",
              "    <tr>\n",
              "      <th>count</th>\n",
              "      <td>110000.000000</td>\n",
              "    </tr>\n",
              "    <tr>\n",
              "      <th>mean</th>\n",
              "      <td>13.190300</td>\n",
              "    </tr>\n",
              "    <tr>\n",
              "      <th>std</th>\n",
              "      <td>8.070827</td>\n",
              "    </tr>\n",
              "    <tr>\n",
              "      <th>min</th>\n",
              "      <td>5.000000</td>\n",
              "    </tr>\n",
              "    <tr>\n",
              "      <th>25%</th>\n",
              "      <td>7.000000</td>\n",
              "    </tr>\n",
              "    <tr>\n",
              "      <th>50%</th>\n",
              "      <td>11.000000</td>\n",
              "    </tr>\n",
              "    <tr>\n",
              "      <th>75%</th>\n",
              "      <td>17.000000</td>\n",
              "    </tr>\n",
              "    <tr>\n",
              "      <th>max</th>\n",
              "      <td>53.000000</td>\n",
              "    </tr>\n",
              "  </tbody>\n",
              "</table>\n",
              "</div>"
            ],
            "text/plain": [
              "               count\n",
              "count  110000.000000\n",
              "mean       13.190300\n",
              "std         8.070827\n",
              "min         5.000000\n",
              "25%         7.000000\n",
              "50%        11.000000\n",
              "75%        17.000000\n",
              "max        53.000000"
            ]
          },
          "metadata": {
            "tags": []
          },
          "execution_count": 21
        }
      ]
    },
    {
      "cell_type": "code",
      "metadata": {
        "colab": {
          "base_uri": "https://localhost:8080/",
          "height": 279
        },
        "id": "BZk0Ag3hatkm",
        "outputId": "c6f3a42a-5f7a-4a13-ac03-01c98471378a"
      },
      "source": [
        "plt.xlabel('Number of songs per user')\n",
        "\n",
        "sns.kdeplot(data = songs_per_user[:200])\n",
        "\n",
        "plt.show()"
      ],
      "execution_count": 22,
      "outputs": [
        {
          "output_type": "display_data",
          "data": {
            "image/png": "[encoded data removed]",
            "text/plain": [
              "<Figure size 432x288 with 1 Axes>"
            ]
          },
          "metadata": {
            "tags": [],
            "needs_background": "light"
          }
        }
      ]
    },
    {
      "cell_type": "markdown",
      "metadata": {
        "id": "zAmjbEWPatko"
      },
      "source": [
        "## Analysis of popular artist"
      ]
    },
    {
      "cell_type": "code",
      "metadata": {
        "colab": {
          "base_uri": "https://localhost:8080/",
          "height": 234
        },
        "id": "cvQePaGNatko",
        "outputId": "6045964b-e3ee-41ec-8c92-8b8ae40e3812"
      },
      "source": [
        "artist_popularity = song_df.groupby('artist_name')['freq'].agg(['count'])\n",
        "artist_popularity.head()\n"
      ],
      "execution_count": 23,
      "outputs": [
        {
          "output_type": "execute_result",
          "data": {
            "text/html": [
              "<div>\n",
              "<style scoped>\n",
              "    .dataframe tbody tr th:only-of-type {\n",
              "        vertical-align: middle;\n",
              "    }\n",
              "\n",
              "    .dataframe tbody tr th {\n",
              "        vertical-align: top;\n",
              "    }\n",
              "\n",
              "    .dataframe thead th {\n",
              "        text-align: right;\n",
              "    }\n",
              "</style>\n",
              "<table border=\"1\" class=\"dataframe\">\n",
              "  <thead>\n",
              "    <tr style=\"text-align: right;\">\n",
              "      <th></th>\n",
              "      <th>count</th>\n",
              "    </tr>\n",
              "    <tr>\n",
              "      <th>artist_name</th>\n",
              "      <th></th>\n",
              "    </tr>\n",
              "  </thead>\n",
              "  <tbody>\n",
              "    <tr>\n",
              "      <th>!!!</th>\n",
              "      <td>109</td>\n",
              "    </tr>\n",
              "    <tr>\n",
              "      <th>!Deladap</th>\n",
              "      <td>3</td>\n",
              "    </tr>\n",
              "    <tr>\n",
              "      <th>&amp; And Oceans</th>\n",
              "      <td>2</td>\n",
              "    </tr>\n",
              "    <tr>\n",
              "      <th>'68 Comeback</th>\n",
              "      <td>22</td>\n",
              "    </tr>\n",
              "    <tr>\n",
              "      <th>'N Sync/Phil Collins</th>\n",
              "      <td>48</td>\n",
              "    </tr>\n",
              "  </tbody>\n",
              "</table>\n",
              "</div>"
            ],
            "text/plain": [
              "                      count\n",
              "artist_name                \n",
              "!!!                     109\n",
              "!Deladap                  3\n",
              "& And Oceans              2\n",
              "'68 Comeback             22\n",
              "'N Sync/Phil Collins     48"
            ]
          },
          "metadata": {
            "tags": []
          },
          "execution_count": 23
        }
      ]
    },
    {
      "cell_type": "code",
      "metadata": {
        "colab": {
          "base_uri": "https://localhost:8080/",
          "height": 234
        },
        "id": "43xMKpmaatkq",
        "outputId": "7bfd3101-655e-46eb-a97c-11e458e4140d"
      },
      "source": [
        "artist_popularity.sort_values(by='count',ascending = False).head()"
      ],
      "execution_count": 24,
      "outputs": [
        {
          "output_type": "execute_result",
          "data": {
            "text/html": [
              "<div>\n",
              "<style scoped>\n",
              "    .dataframe tbody tr th:only-of-type {\n",
              "        vertical-align: middle;\n",
              "    }\n",
              "\n",
              "    .dataframe tbody tr th {\n",
              "        vertical-align: top;\n",
              "    }\n",
              "\n",
              "    .dataframe thead th {\n",
              "        text-align: right;\n",
              "    }\n",
              "</style>\n",
              "<table border=\"1\" class=\"dataframe\">\n",
              "  <thead>\n",
              "    <tr style=\"text-align: right;\">\n",
              "      <th></th>\n",
              "      <th>count</th>\n",
              "    </tr>\n",
              "    <tr>\n",
              "      <th>artist_name</th>\n",
              "      <th></th>\n",
              "    </tr>\n",
              "  </thead>\n",
              "  <tbody>\n",
              "    <tr>\n",
              "      <th>Coldplay</th>\n",
              "      <td>10883</td>\n",
              "    </tr>\n",
              "    <tr>\n",
              "      <th>Florence + The Machine</th>\n",
              "      <td>8213</td>\n",
              "    </tr>\n",
              "    <tr>\n",
              "      <th>Train</th>\n",
              "      <td>6617</td>\n",
              "    </tr>\n",
              "    <tr>\n",
              "      <th>The Black Keys</th>\n",
              "      <td>6507</td>\n",
              "    </tr>\n",
              "    <tr>\n",
              "      <th>Jack Johnson</th>\n",
              "      <td>6104</td>\n",
              "    </tr>\n",
              "  </tbody>\n",
              "</table>\n",
              "</div>"
            ],
            "text/plain": [
              "                        count\n",
              "artist_name                  \n",
              "Coldplay                10883\n",
              "Florence + The Machine   8213\n",
              "Train                    6617\n",
              "The Black Keys           6507\n",
              "Jack Johnson             6104"
            ]
          },
          "metadata": {
            "tags": []
          },
          "execution_count": 24
        }
      ]
    },
    {
      "cell_type": "code",
      "metadata": {
        "colab": {
          "base_uri": "https://localhost:8080/",
          "height": 234
        },
        "id": "zOvWbrPLatkr",
        "outputId": "ab8631b8-4998-464e-92d6-9bacfd00ff37"
      },
      "source": [
        "artist_popularity.sort_values(by='count',ascending = False).tail()"
      ],
      "execution_count": 25,
      "outputs": [
        {
          "output_type": "execute_result",
          "data": {
            "text/html": [
              "<div>\n",
              "<style scoped>\n",
              "    .dataframe tbody tr th:only-of-type {\n",
              "        vertical-align: middle;\n",
              "    }\n",
              "\n",
              "    .dataframe tbody tr th {\n",
              "        vertical-align: top;\n",
              "    }\n",
              "\n",
              "    .dataframe thead th {\n",
              "        text-align: right;\n",
              "    }\n",
              "</style>\n",
              "<table border=\"1\" class=\"dataframe\">\n",
              "  <thead>\n",
              "    <tr style=\"text-align: right;\">\n",
              "      <th></th>\n",
              "      <th>count</th>\n",
              "    </tr>\n",
              "    <tr>\n",
              "      <th>artist_name</th>\n",
              "      <th></th>\n",
              "    </tr>\n",
              "  </thead>\n",
              "  <tbody>\n",
              "    <tr>\n",
              "      <th>The Brand New Heavies Feat. Sy Smith</th>\n",
              "      <td>1</td>\n",
              "    </tr>\n",
              "    <tr>\n",
              "      <th>The Brain Police</th>\n",
              "      <td>1</td>\n",
              "    </tr>\n",
              "    <tr>\n",
              "      <th>Bruce Ruffin</th>\n",
              "      <td>1</td>\n",
              "    </tr>\n",
              "    <tr>\n",
              "      <th>Gordon Jenkins</th>\n",
              "      <td>1</td>\n",
              "    </tr>\n",
              "    <tr>\n",
              "      <th>Özlem Tekin</th>\n",
              "      <td>1</td>\n",
              "    </tr>\n",
              "  </tbody>\n",
              "</table>\n",
              "</div>"
            ],
            "text/plain": [
              "                                      count\n",
              "artist_name                                \n",
              "The Brand New Heavies Feat. Sy Smith      1\n",
              "The Brain Police                          1\n",
              "Bruce Ruffin                              1\n",
              "Gordon Jenkins                            1\n",
              "Özlem Tekin                               1"
            ]
          },
          "metadata": {
            "tags": []
          },
          "execution_count": 25
        }
      ]
    },
    {
      "cell_type": "code",
      "metadata": {
        "colab": {
          "base_uri": "https://localhost:8080/"
        },
        "id": "xmekki99atks",
        "outputId": "a72b94bd-20fd-42da-e228-db4fb715c4eb"
      },
      "source": [
        "song_df.columns"
      ],
      "execution_count": 26,
      "outputs": [
        {
          "output_type": "execute_result",
          "data": {
            "text/plain": [
              "Index(['user_id', 'song_id', 'freq', 'artist_name', 'release'], dtype='object')"
            ]
          },
          "metadata": {
            "tags": []
          },
          "execution_count": 26
        }
      ]
    },
    {
      "cell_type": "code",
      "metadata": {
        "colab": {
          "base_uri": "https://localhost:8080/",
          "height": 447
        },
        "id": "PYAFFRagatkt",
        "outputId": "8ea5636c-3b67-4410-fa09-90c628dfb423"
      },
      "source": [
        "grp_by_artist = song_df.groupby('artist_name')\n",
        "grp_by_artist.first()\n"
      ],
      "execution_count": 27,
      "outputs": [
        {
          "output_type": "execute_result",
          "data": {
            "text/html": [
              "<div>\n",
              "<style scoped>\n",
              "    .dataframe tbody tr th:only-of-type {\n",
              "        vertical-align: middle;\n",
              "    }\n",
              "\n",
              "    .dataframe tbody tr th {\n",
              "        vertical-align: top;\n",
              "    }\n",
              "\n",
              "    .dataframe thead th {\n",
              "        text-align: right;\n",
              "    }\n",
              "</style>\n",
              "<table border=\"1\" class=\"dataframe\">\n",
              "  <thead>\n",
              "    <tr style=\"text-align: right;\">\n",
              "      <th></th>\n",
              "      <th>user_id</th>\n",
              "      <th>song_id</th>\n",
              "      <th>freq</th>\n",
              "      <th>release</th>\n",
              "    </tr>\n",
              "    <tr>\n",
              "      <th>artist_name</th>\n",
              "      <th></th>\n",
              "      <th></th>\n",
              "      <th></th>\n",
              "      <th></th>\n",
              "    </tr>\n",
              "  </thead>\n",
              "  <tbody>\n",
              "    <tr>\n",
              "      <th>!!!</th>\n",
              "      <td>6de4f2710a3cf3138394d931215224efac265abf</td>\n",
              "      <td>SORLTDE12A6D4F5705</td>\n",
              "      <td>1</td>\n",
              "      <td>Must Be The Moon</td>\n",
              "    </tr>\n",
              "    <tr>\n",
              "      <th>!Deladap</th>\n",
              "      <td>d0f78656b459006aa5a78f1a58d8d5adff843a6a</td>\n",
              "      <td>SOVAYGX12A6D4F9DCC</td>\n",
              "      <td>1</td>\n",
              "      <td>Goldregen (N.O.H.A. Mix)</td>\n",
              "    </tr>\n",
              "    <tr>\n",
              "      <th>&amp; And Oceans</th>\n",
              "      <td>f94b8cf37128af23239c6552f8b2e941fd1b28f4</td>\n",
              "      <td>SOQFSJI12A67ADA711</td>\n",
              "      <td>1</td>\n",
              "      <td>Odious And Devious</td>\n",
              "    </tr>\n",
              "    <tr>\n",
              "      <th>'68 Comeback</th>\n",
              "      <td>25e17cfe32e633d4ea276ce835b66d62a04c658d</td>\n",
              "      <td>SOMDRCR12AB018CB20</td>\n",
              "      <td>1</td>\n",
              "      <td>All Night Long</td>\n",
              "    </tr>\n",
              "    <tr>\n",
              "      <th>'N Sync/Phil Collins</th>\n",
              "      <td>a2becba323cdd81dc8743709825707343e84d39a</td>\n",
              "      <td>SORUSZO12AB01812C4</td>\n",
              "      <td>2</td>\n",
              "      <td>Trashin' The Camp (Phil And 'N Sync Version)</td>\n",
              "    </tr>\n",
              "    <tr>\n",
              "      <th>...</th>\n",
              "      <td>...</td>\n",
              "      <td>...</td>\n",
              "      <td>...</td>\n",
              "      <td>...</td>\n",
              "    </tr>\n",
              "    <tr>\n",
              "      <th>Étienne Daho</th>\n",
              "      <td>7a806e1b5adfb9fd4d27615724e5f80d31d1c6e5</td>\n",
              "      <td>SOLCNTW12A6D4FAD0C</td>\n",
              "      <td>5</td>\n",
              "      <td>Satori pop century (Live 1986)</td>\n",
              "    </tr>\n",
              "    <tr>\n",
              "      <th>Íon</th>\n",
              "      <td>86d1ca3364b66f761430a03e9b586c8c66ff4380</td>\n",
              "      <td>SOKMTEJ12AB0185DFB</td>\n",
              "      <td>10</td>\n",
              "      <td>Fé_ Esperanza_ Amor</td>\n",
              "    </tr>\n",
              "    <tr>\n",
              "      <th>Ólafur Arnalds</th>\n",
              "      <td>b7a856ab9b3b323fdd351b68d17ed9cdf5517dcd</td>\n",
              "      <td>SOIYAMZ12A8C1403E8</td>\n",
              "      <td>1</td>\n",
              "      <td>Þú ert jörðin</td>\n",
              "    </tr>\n",
              "    <tr>\n",
              "      <th>Órla Fallon</th>\n",
              "      <td>8cd70ee28a39da13a9b8f2edd64bb6984fd8b615</td>\n",
              "      <td>SOQXANV12A6D4F7C34</td>\n",
              "      <td>10</td>\n",
              "      <td>The Water Is Wide</td>\n",
              "    </tr>\n",
              "    <tr>\n",
              "      <th>Özlem Tekin</th>\n",
              "      <td>bb226b12b77d6155b7dffd3f52e2726a9daf6620</td>\n",
              "      <td>SOVUSLD12A8AE47833</td>\n",
              "      <td>1</td>\n",
              "      <td>A)sik</td>\n",
              "    </tr>\n",
              "  </tbody>\n",
              "</table>\n",
              "<p>28337 rows × 4 columns</p>\n",
              "</div>"
            ],
            "text/plain": [
              "                                                       user_id  ...                                       release\n",
              "artist_name                                                     ...                                              \n",
              "!!!                   6de4f2710a3cf3138394d931215224efac265abf  ...                              Must Be The Moon\n",
              "!Deladap              d0f78656b459006aa5a78f1a58d8d5adff843a6a  ...                      Goldregen (N.O.H.A. Mix)\n",
              "& And Oceans          f94b8cf37128af23239c6552f8b2e941fd1b28f4  ...                            Odious And Devious\n",
              "'68 Comeback          25e17cfe32e633d4ea276ce835b66d62a04c658d  ...                                All Night Long\n",
              "'N Sync/Phil Collins  a2becba323cdd81dc8743709825707343e84d39a  ...  Trashin' The Camp (Phil And 'N Sync Version)\n",
              "...                                                        ...  ...                                           ...\n",
              "Étienne Daho          7a806e1b5adfb9fd4d27615724e5f80d31d1c6e5  ...                Satori pop century (Live 1986)\n",
              "Íon                   86d1ca3364b66f761430a03e9b586c8c66ff4380  ...                           Fé_ Esperanza_ Amor\n",
              "Ólafur Arnalds        b7a856ab9b3b323fdd351b68d17ed9cdf5517dcd  ...                                 Þú ert jörðin\n",
              "Órla Fallon           8cd70ee28a39da13a9b8f2edd64bb6984fd8b615  ...                             The Water Is Wide\n",
              "Özlem Tekin           bb226b12b77d6155b7dffd3f52e2726a9daf6620  ...                                         A)sik\n",
              "\n",
              "[28337 rows x 4 columns]"
            ]
          },
          "metadata": {
            "tags": []
          },
          "execution_count": 27
        }
      ]
    },
    {
      "cell_type": "code",
      "metadata": {
        "colab": {
          "base_uri": "https://localhost:8080/"
        },
        "id": "2QWtNCdhatku",
        "outputId": "5fd40dc7-7625-4691-b112-c71997cb6308"
      },
      "source": [
        "grp_by_artist.get_group('Coldplay')['release'].unique()"
      ],
      "execution_count": 28,
      "outputs": [
        {
          "output_type": "execute_result",
          "data": {
            "text/plain": [
              "array(['The Scientist', 'Fix You', \"Don't Panic\", 'Sparks', 'Clocks',\n",
              "       'Life In Technicolor ii', 'Such A Rush', 'Fix You (Live)',\n",
              "       'Speed Of Sound', 'Lost!', 'God Put A Smile Upon Your Face',\n",
              "       'Brothers & Sisters', 'A Rush Of Blood To The Head',\n",
              "       'Clocks (Live In Sydney)', 'One I Love', 'For You',\n",
              "       'You Only Live Twice (Live From Norway)', 'Shiver',\n",
              "       'Swallowed In The Sea', 'In My Place', 'Postcards From Far Away',\n",
              "       'Glass Of Water', \"Things I Don't Understand\", 'Strawberry Swing',\n",
              "       'Til Kingdom Come', 'The Goldrush', 'X & Y', 'Life In Technicolor',\n",
              "       'We Never Change', 'Bigger Stronger', 'What If', 'Trouble',\n",
              "       \"Everything's Not Lost (Includes Hidden Track 'Life Is For Living')\",\n",
              "       'Only Superstition', 'Politik', 'Careful Where You Stand',\n",
              "       'Warning Sign', 'See You Soon', 'Spies', 'Cemeteries Of London',\n",
              "       'A Whisper', 'A Message', 'Square One', 'Low', 'I Bloom Blaum',\n",
              "       'I Ran Away', 'The World Turned Upside Down',\n",
              "       'Talk (Junkie XL Remix)', 'Help Is Round The Corner', 'Daylight',\n",
              "       'High Speed', \"Now My Feet Won't Touch The Ground\",\n",
              "       'Twisted Logic', 'Violet Hill', 'White Shadows',\n",
              "       'See You Soon (Live In Sydney)', 'Proof', 'Amsterdam', '1.36',\n",
              "       'Shiver (Live In Sydney)',\n",
              "       \"Everything's Not Lost (Live In Sydney)\",\n",
              "       'A Rush Of Blood To The Head (Live In Sydney)',\n",
              "       'Yellow (Live In Sydney)', 'Talk (Francois K Dub)', 'Sleeping Sun',\n",
              "       'Pour Me (Live At The Hollywood Bowl)', 'Lost?',\n",
              "       'Moses (Live In Sydney)',\n",
              "       'Life In Technicolor ii (Live @ The O2_ London)',\n",
              "       'In My Place (Live In Sydney)', 'Talk (Thin White Duke Mix)',\n",
              "       'Speed Of Sound (Live)', 'Amsterdam (Live In Sydney)'],\n",
              "      dtype=object)"
            ]
          },
          "metadata": {
            "tags": []
          },
          "execution_count": 28
        }
      ]
    },
    {
      "cell_type": "code",
      "metadata": {
        "colab": {
          "base_uri": "https://localhost:8080/"
        },
        "id": "zCY0RzXRatkv",
        "outputId": "0cf165ce-7996-4398-ad22-0e994dfeeef8"
      },
      "source": [
        "grp_by_artist.get_group('Justin Bieber')['release'].unique()"
      ],
      "execution_count": 29,
      "outputs": [
        {
          "output_type": "execute_result",
          "data": {
            "text/plain": [
              "array(['Down To Earth', 'One Time', 'U Smile', 'Favorite Girl', 'Love Me',\n",
              "       'Common Denominator', 'Never Let You Go', 'Stuck In The Moment',\n",
              "       'Up', 'One Less Lonely Girl', 'That Should Be Me', 'Bigger',\n",
              "       'Runaway Love'], dtype=object)"
            ]
          },
          "metadata": {
            "tags": []
          },
          "execution_count": 29
        }
      ]
    },
    {
      "cell_type": "code",
      "metadata": {
        "id": "haXNPJ_ratkw"
      },
      "source": [
        "sorted_artist_popularity = artist_popularity.sort_values(by = 'count',ascending =False)"
      ],
      "execution_count": 30,
      "outputs": []
    },
    {
      "cell_type": "code",
      "metadata": {
        "colab": {
          "base_uri": "https://localhost:8080/",
          "height": 447
        },
        "id": "DNCGYxMeatkx",
        "outputId": "44a69d5d-1f2e-4399-bdd6-80aa1e042b9b"
      },
      "source": [
        "sorted_artist_popularity"
      ],
      "execution_count": 31,
      "outputs": [
        {
          "output_type": "execute_result",
          "data": {
            "text/html": [
              "<div>\n",
              "<style scoped>\n",
              "    .dataframe tbody tr th:only-of-type {\n",
              "        vertical-align: middle;\n",
              "    }\n",
              "\n",
              "    .dataframe tbody tr th {\n",
              "        vertical-align: top;\n",
              "    }\n",
              "\n",
              "    .dataframe thead th {\n",
              "        text-align: right;\n",
              "    }\n",
              "</style>\n",
              "<table border=\"1\" class=\"dataframe\">\n",
              "  <thead>\n",
              "    <tr style=\"text-align: right;\">\n",
              "      <th></th>\n",
              "      <th>count</th>\n",
              "    </tr>\n",
              "    <tr>\n",
              "      <th>artist_name</th>\n",
              "      <th></th>\n",
              "    </tr>\n",
              "  </thead>\n",
              "  <tbody>\n",
              "    <tr>\n",
              "      <th>Coldplay</th>\n",
              "      <td>10883</td>\n",
              "    </tr>\n",
              "    <tr>\n",
              "      <th>Florence + The Machine</th>\n",
              "      <td>8213</td>\n",
              "    </tr>\n",
              "    <tr>\n",
              "      <th>Train</th>\n",
              "      <td>6617</td>\n",
              "    </tr>\n",
              "    <tr>\n",
              "      <th>The Black Keys</th>\n",
              "      <td>6507</td>\n",
              "    </tr>\n",
              "    <tr>\n",
              "      <th>Jack Johnson</th>\n",
              "      <td>6104</td>\n",
              "    </tr>\n",
              "    <tr>\n",
              "      <th>...</th>\n",
              "      <td>...</td>\n",
              "    </tr>\n",
              "    <tr>\n",
              "      <th>The Brand New Heavies Feat. Sy Smith</th>\n",
              "      <td>1</td>\n",
              "    </tr>\n",
              "    <tr>\n",
              "      <th>The Brain Police</th>\n",
              "      <td>1</td>\n",
              "    </tr>\n",
              "    <tr>\n",
              "      <th>Bruce Ruffin</th>\n",
              "      <td>1</td>\n",
              "    </tr>\n",
              "    <tr>\n",
              "      <th>Gordon Jenkins</th>\n",
              "      <td>1</td>\n",
              "    </tr>\n",
              "    <tr>\n",
              "      <th>Özlem Tekin</th>\n",
              "      <td>1</td>\n",
              "    </tr>\n",
              "  </tbody>\n",
              "</table>\n",
              "<p>28337 rows × 1 columns</p>\n",
              "</div>"
            ],
            "text/plain": [
              "                                      count\n",
              "artist_name                                \n",
              "Coldplay                              10883\n",
              "Florence + The Machine                 8213\n",
              "Train                                  6617\n",
              "The Black Keys                         6507\n",
              "Jack Johnson                           6104\n",
              "...                                     ...\n",
              "The Brand New Heavies Feat. Sy Smith      1\n",
              "The Brain Police                          1\n",
              "Bruce Ruffin                              1\n",
              "Gordon Jenkins                            1\n",
              "Özlem Tekin                               1\n",
              "\n",
              "[28337 rows x 1 columns]"
            ]
          },
          "metadata": {
            "tags": []
          },
          "execution_count": 31
        }
      ]
    },
    {
      "cell_type": "code",
      "metadata": {
        "colab": {
          "base_uri": "https://localhost:8080/",
          "height": 262
        },
        "id": "gB9a1fttatky",
        "outputId": "fc04141c-2b81-4880-da46-631c5de746d7"
      },
      "source": [
        "sorted_artist_popularity['count'].plot();\n",
        "plt.xlabel('Artist')\n",
        "plt.ylabel('Popularity')\n",
        "plt.xticks([]);\n",
        "\n"
      ],
      "execution_count": 32,
      "outputs": [
        {
          "output_type": "display_data",
          "data": {
            "image/png": "[encoded data removed]",
            "text/plain": [
              "<Figure size 432x288 with 1 Axes>"
            ]
          },
          "metadata": {
            "tags": [],
            "needs_background": "light"
          }
        }
      ]
    },
    {
      "cell_type": "markdown",
      "metadata": {
        "id": "gGxH0brsatkz"
      },
      "source": [
        "## Analysis of popularity of song"
      ]
    },
    {
      "cell_type": "code",
      "metadata": {
        "id": "VtFg0ATYatk0"
      },
      "source": [
        "song_popularity = song_df.groupby('release')['freq'].agg(['count'])\n"
      ],
      "execution_count": 33,
      "outputs": []
    },
    {
      "cell_type": "code",
      "metadata": {
        "colab": {
          "base_uri": "https://localhost:8080/",
          "height": 234
        },
        "id": "0tNmXWtQatk1",
        "outputId": "c62b635b-c628-4ce0-cc5d-42f5cc7e2407"
      },
      "source": [
        "song_popularity.head()"
      ],
      "execution_count": 34,
      "outputs": [
        {
          "output_type": "execute_result",
          "data": {
            "text/html": [
              "<div>\n",
              "<style scoped>\n",
              "    .dataframe tbody tr th:only-of-type {\n",
              "        vertical-align: middle;\n",
              "    }\n",
              "\n",
              "    .dataframe tbody tr th {\n",
              "        vertical-align: top;\n",
              "    }\n",
              "\n",
              "    .dataframe thead th {\n",
              "        text-align: right;\n",
              "    }\n",
              "</style>\n",
              "<table border=\"1\" class=\"dataframe\">\n",
              "  <thead>\n",
              "    <tr style=\"text-align: right;\">\n",
              "      <th></th>\n",
              "      <th>count</th>\n",
              "    </tr>\n",
              "    <tr>\n",
              "      <th>release</th>\n",
              "      <th></th>\n",
              "    </tr>\n",
              "  </thead>\n",
              "  <tbody>\n",
              "    <tr>\n",
              "      <th>Ef Ég Hefði Aldrei...</th>\n",
              "      <td>1</td>\n",
              "    </tr>\n",
              "    <tr>\n",
              "      <th>Light Mass Prayers</th>\n",
              "      <td>4</td>\n",
              "    </tr>\n",
              "    <tr>\n",
              "      <th>The Arsonist Story\":  Evil Craves Attention/Our Son/10x10</th>\n",
              "      <td>1</td>\n",
              "    </tr>\n",
              "    <tr>\n",
              "      <th>Ég Átti Gráa Æsku</th>\n",
              "      <td>4</td>\n",
              "    </tr>\n",
              "    <tr>\n",
              "      <th>(Jack The Stripper)</th>\n",
              "      <td>2</td>\n",
              "    </tr>\n",
              "  </tbody>\n",
              "</table>\n",
              "</div>"
            ],
            "text/plain": [
              "                                                    count\n",
              "release                                                  \n",
              "\n",
              "Ef Ég Hefði Aldrei...                                  1\n",
              "\n",
              "Light Mass Prayers                                     4\n",
              "\n",
              "The Arsonist Story\":  Evil Craves Attention/Ou...      1\n",
              "\n",
              "Ég Átti Gráa Æsku                                      4\n",
              " (Jack The Stripper)                                    2"
            ]
          },
          "metadata": {
            "tags": []
          },
          "execution_count": 34
        }
      ]
    },
    {
      "cell_type": "code",
      "metadata": {
        "colab": {
          "base_uri": "https://localhost:8080/",
          "height": 234
        },
        "id": "2qyjHIjkatk2",
        "outputId": "004aa9cb-a09b-43e5-e8f3-7906045507e4"
      },
      "source": [
        "song_popularity.sort_values(by = 'count').head()"
      ],
      "execution_count": 35,
      "outputs": [
        {
          "output_type": "execute_result",
          "data": {
            "text/html": [
              "<div>\n",
              "<style scoped>\n",
              "    .dataframe tbody tr th:only-of-type {\n",
              "        vertical-align: middle;\n",
              "    }\n",
              "\n",
              "    .dataframe tbody tr th {\n",
              "        vertical-align: top;\n",
              "    }\n",
              "\n",
              "    .dataframe thead th {\n",
              "        text-align: right;\n",
              "    }\n",
              "</style>\n",
              "<table border=\"1\" class=\"dataframe\">\n",
              "  <thead>\n",
              "    <tr style=\"text-align: right;\">\n",
              "      <th></th>\n",
              "      <th>count</th>\n",
              "    </tr>\n",
              "    <tr>\n",
              "      <th>release</th>\n",
              "      <th></th>\n",
              "    </tr>\n",
              "  </thead>\n",
              "  <tbody>\n",
              "    <tr>\n",
              "      <th>Ef Ég Hefði Aldrei...</th>\n",
              "      <td>1</td>\n",
              "    </tr>\n",
              "    <tr>\n",
              "      <th>Malade Imaginaire Intro</th>\n",
              "      <td>1</td>\n",
              "    </tr>\n",
              "    <tr>\n",
              "      <th>Malade Imaginaire</th>\n",
              "      <td>1</td>\n",
              "    </tr>\n",
              "    <tr>\n",
              "      <th>Malabares</th>\n",
              "      <td>1</td>\n",
              "    </tr>\n",
              "    <tr>\n",
              "      <th>Mala morska vila</th>\n",
              "      <td>1</td>\n",
              "    </tr>\n",
              "  </tbody>\n",
              "</table>\n",
              "</div>"
            ],
            "text/plain": [
              "                         count\n",
              "release                       \n",
              "\n",
              "Ef Ég Hefði Aldrei...       1\n",
              "Malade Imaginaire Intro      1\n",
              "Malade Imaginaire            1\n",
              "Malabares                    1\n",
              "Mala morska vila             1"
            ]
          },
          "metadata": {
            "tags": []
          },
          "execution_count": 35
        }
      ]
    },
    {
      "cell_type": "code",
      "metadata": {
        "colab": {
          "base_uri": "https://localhost:8080/",
          "height": 234
        },
        "id": "-rWWP1ULatk3",
        "outputId": "5c76878f-8af7-476f-9f46-f1e442721ba5"
      },
      "source": [
        "song_popularity.sort_values(by = 'count').tail()"
      ],
      "execution_count": 36,
      "outputs": [
        {
          "output_type": "execute_result",
          "data": {
            "text/html": [
              "<div>\n",
              "<style scoped>\n",
              "    .dataframe tbody tr th:only-of-type {\n",
              "        vertical-align: middle;\n",
              "    }\n",
              "\n",
              "    .dataframe tbody tr th {\n",
              "        vertical-align: top;\n",
              "    }\n",
              "\n",
              "    .dataframe thead th {\n",
              "        text-align: right;\n",
              "    }\n",
              "</style>\n",
              "<table border=\"1\" class=\"dataframe\">\n",
              "  <thead>\n",
              "    <tr style=\"text-align: right;\">\n",
              "      <th></th>\n",
              "      <th>count</th>\n",
              "    </tr>\n",
              "    <tr>\n",
              "      <th>release</th>\n",
              "      <th></th>\n",
              "    </tr>\n",
              "  </thead>\n",
              "  <tbody>\n",
              "    <tr>\n",
              "      <th>Revelry</th>\n",
              "      <td>3672</td>\n",
              "    </tr>\n",
              "    <tr>\n",
              "      <th>Dog Days Are Over (Radio Edit)</th>\n",
              "      <td>3780</td>\n",
              "    </tr>\n",
              "    <tr>\n",
              "      <th>You're The One</th>\n",
              "      <td>4270</td>\n",
              "    </tr>\n",
              "    <tr>\n",
              "      <th>Undo</th>\n",
              "      <td>4483</td>\n",
              "    </tr>\n",
              "    <tr>\n",
              "      <th>Sehr kosmisch</th>\n",
              "      <td>5043</td>\n",
              "    </tr>\n",
              "  </tbody>\n",
              "</table>\n",
              "</div>"
            ],
            "text/plain": [
              "                                count\n",
              "release                              \n",
              "Revelry                          3672\n",
              "Dog Days Are Over (Radio Edit)   3780\n",
              "You're The One                   4270\n",
              "Undo                             4483\n",
              "Sehr kosmisch                    5043"
            ]
          },
          "metadata": {
            "tags": []
          },
          "execution_count": 36
        }
      ]
    },
    {
      "cell_type": "code",
      "metadata": {
        "colab": {
          "base_uri": "https://localhost:8080/",
          "height": 234
        },
        "id": "GkNSwg22atk4",
        "outputId": "29f8ce35-04f1-4dff-9aaa-4053261d82d8"
      },
      "source": [
        "song_popularity.sort_values(by = 'count', ascending = False).head()"
      ],
      "execution_count": 37,
      "outputs": [
        {
          "output_type": "execute_result",
          "data": {
            "text/html": [
              "<div>\n",
              "<style scoped>\n",
              "    .dataframe tbody tr th:only-of-type {\n",
              "        vertical-align: middle;\n",
              "    }\n",
              "\n",
              "    .dataframe tbody tr th {\n",
              "        vertical-align: top;\n",
              "    }\n",
              "\n",
              "    .dataframe thead th {\n",
              "        text-align: right;\n",
              "    }\n",
              "</style>\n",
              "<table border=\"1\" class=\"dataframe\">\n",
              "  <thead>\n",
              "    <tr style=\"text-align: right;\">\n",
              "      <th></th>\n",
              "      <th>count</th>\n",
              "    </tr>\n",
              "    <tr>\n",
              "      <th>release</th>\n",
              "      <th></th>\n",
              "    </tr>\n",
              "  </thead>\n",
              "  <tbody>\n",
              "    <tr>\n",
              "      <th>Sehr kosmisch</th>\n",
              "      <td>5043</td>\n",
              "    </tr>\n",
              "    <tr>\n",
              "      <th>Undo</th>\n",
              "      <td>4483</td>\n",
              "    </tr>\n",
              "    <tr>\n",
              "      <th>You're The One</th>\n",
              "      <td>4270</td>\n",
              "    </tr>\n",
              "    <tr>\n",
              "      <th>Dog Days Are Over (Radio Edit)</th>\n",
              "      <td>3780</td>\n",
              "    </tr>\n",
              "    <tr>\n",
              "      <th>Revelry</th>\n",
              "      <td>3672</td>\n",
              "    </tr>\n",
              "  </tbody>\n",
              "</table>\n",
              "</div>"
            ],
            "text/plain": [
              "                                count\n",
              "release                              \n",
              "Sehr kosmisch                    5043\n",
              "Undo                             4483\n",
              "You're The One                   4270\n",
              "Dog Days Are Over (Radio Edit)   3780\n",
              "Revelry                          3672"
            ]
          },
          "metadata": {
            "tags": []
          },
          "execution_count": 37
        }
      ]
    },
    {
      "cell_type": "code",
      "metadata": {
        "id": "zEdo__ibatk5"
      },
      "source": [
        "sorted_song_popularity = song_popularity.sort_values(by = 'count', ascending = False)"
      ],
      "execution_count": 38,
      "outputs": []
    },
    {
      "cell_type": "code",
      "metadata": {
        "colab": {
          "base_uri": "https://localhost:8080/",
          "height": 447
        },
        "id": "_EJd2kG2atk6",
        "outputId": "4a1ee6d8-fe16-42c4-9f92-3dc76f95c3da"
      },
      "source": [
        "sorted_song_popularity"
      ],
      "execution_count": 39,
      "outputs": [
        {
          "output_type": "execute_result",
          "data": {
            "text/html": [
              "<div>\n",
              "<style scoped>\n",
              "    .dataframe tbody tr th:only-of-type {\n",
              "        vertical-align: middle;\n",
              "    }\n",
              "\n",
              "    .dataframe tbody tr th {\n",
              "        vertical-align: top;\n",
              "    }\n",
              "\n",
              "    .dataframe thead th {\n",
              "        text-align: right;\n",
              "    }\n",
              "</style>\n",
              "<table border=\"1\" class=\"dataframe\">\n",
              "  <thead>\n",
              "    <tr style=\"text-align: right;\">\n",
              "      <th></th>\n",
              "      <th>count</th>\n",
              "    </tr>\n",
              "    <tr>\n",
              "      <th>release</th>\n",
              "      <th></th>\n",
              "    </tr>\n",
              "  </thead>\n",
              "  <tbody>\n",
              "    <tr>\n",
              "      <th>Sehr kosmisch</th>\n",
              "      <td>5043</td>\n",
              "    </tr>\n",
              "    <tr>\n",
              "      <th>Undo</th>\n",
              "      <td>4483</td>\n",
              "    </tr>\n",
              "    <tr>\n",
              "      <th>You're The One</th>\n",
              "      <td>4270</td>\n",
              "    </tr>\n",
              "    <tr>\n",
              "      <th>Dog Days Are Over (Radio Edit)</th>\n",
              "      <td>3780</td>\n",
              "    </tr>\n",
              "    <tr>\n",
              "      <th>Revelry</th>\n",
              "      <td>3672</td>\n",
              "    </tr>\n",
              "    <tr>\n",
              "      <th>...</th>\n",
              "      <td>...</td>\n",
              "    </tr>\n",
              "    <tr>\n",
              "      <th>Lo Que No Sabes</th>\n",
              "      <td>1</td>\n",
              "    </tr>\n",
              "    <tr>\n",
              "      <th>Lo Que La Vida Te Dá</th>\n",
              "      <td>1</td>\n",
              "    </tr>\n",
              "    <tr>\n",
              "      <th>Lo Que Dicte El Corazón</th>\n",
              "      <td>1</td>\n",
              "    </tr>\n",
              "    <tr>\n",
              "      <th>Lo Más Valioso</th>\n",
              "      <td>1</td>\n",
              "    </tr>\n",
              "    <tr>\n",
              "      <th>þetta Gerist á Bestu Bæjum</th>\n",
              "      <td>1</td>\n",
              "    </tr>\n",
              "  </tbody>\n",
              "</table>\n",
              "<p>137238 rows × 1 columns</p>\n",
              "</div>"
            ],
            "text/plain": [
              "                                count\n",
              "release                              \n",
              "Sehr kosmisch                    5043\n",
              "Undo                             4483\n",
              "You're The One                   4270\n",
              "Dog Days Are Over (Radio Edit)   3780\n",
              "Revelry                          3672\n",
              "...                               ...\n",
              "Lo Que No Sabes                     1\n",
              "Lo Que La Vida Te Dá                1\n",
              "Lo Que Dicte El Corazón             1\n",
              "Lo Más Valioso                      1\n",
              "þetta Gerist á Bestu Bæjum          1\n",
              "\n",
              "[137238 rows x 1 columns]"
            ]
          },
          "metadata": {
            "tags": []
          },
          "execution_count": 39
        }
      ]
    },
    {
      "cell_type": "code",
      "metadata": {
        "id": "5FVqw2CidTLs"
      },
      "source": [
        ""
      ],
      "execution_count": 39,
      "outputs": []
    },
    {
      "cell_type": "code",
      "metadata": {
        "colab": {
          "base_uri": "https://localhost:8080/",
          "height": 262
        },
        "id": "qno01zo6atk7",
        "outputId": "db0355e3-85b2-4a27-b9df-cd07ef9c5b48"
      },
      "source": [
        "sorted_song_popularity['count'].plot();\n",
        "plt.xlabel('Song')\n",
        "plt.ylabel('Popularity')\n",
        "plt.xticks([]);\n"
      ],
      "execution_count": 40,
      "outputs": [
        {
          "output_type": "display_data",
          "data": {
            "image/png": "[encoded data removed]",
            "text/plain": [
              "<Figure size 432x288 with 1 Axes>"
            ]
          },
          "metadata": {
            "tags": [],
            "needs_background": "light"
          }
        }
      ]
    },
    {
      "cell_type": "code",
      "metadata": {
        "colab": {
          "base_uri": "https://localhost:8080/"
        },
        "id": "G98t4Gb8atk8",
        "outputId": "c995dad4-805a-4b05-91f7-1e715cad747b"
      },
      "source": [
        "# alternative method\n",
        "\n",
        "song_df[song_df['artist_name'] == 'Justin Bieber']['release'].unique()"
      ],
      "execution_count": 41,
      "outputs": [
        {
          "output_type": "execute_result",
          "data": {
            "text/plain": [
              "array(['Down To Earth', 'One Time', 'U Smile', 'Favorite Girl', 'Love Me',\n",
              "       'Common Denominator', 'Never Let You Go', 'Stuck In The Moment',\n",
              "       'Up', 'One Less Lonely Girl', 'That Should Be Me', 'Bigger',\n",
              "       'Runaway Love'], dtype=object)"
            ]
          },
          "metadata": {
            "tags": []
          },
          "execution_count": 41
        }
      ]
    },
    {
      "cell_type": "markdown",
      "metadata": {
        "id": "Sdfm_k9vatk9"
      },
      "source": [
        "## Univariate Analysis"
      ]
    },
    {
      "cell_type": "markdown",
      "metadata": {
        "id": "zWPh-ub3atk-"
      },
      "source": [
        "### Top 5 songs"
      ]
    },
    {
      "cell_type": "code",
      "metadata": {
        "id": "X6HedAmqatk_"
      },
      "source": [
        "top_5_songs = song_popularity.sort_values(by = 'count', ascending = False).head()"
      ],
      "execution_count": 42,
      "outputs": []
    },
    {
      "cell_type": "code",
      "metadata": {
        "colab": {
          "base_uri": "https://localhost:8080/",
          "height": 513
        },
        "id": "3n5ggnxtatlA",
        "outputId": "b5008ef3-530f-4075-9960-aaaf7831ad64"
      },
      "source": [
        "top_5_songs.plot(kind='bar', figsize=(15,5));\n",
        "plt.title(\"Top 5 Popular Song\")\n",
        "plt.ylabel('frequency')"
      ],
      "execution_count": 43,
      "outputs": [
        {
          "output_type": "execute_result",
          "data": {
            "text/plain": [
              "Text(0, 0.5, 'frequency')"
            ]
          },
          "metadata": {
            "tags": []
          },
          "execution_count": 43
        },
        {
          "output_type": "display_data",
          "data": {
            "image/png": "[encoded data removed]",
            "text/plain": [
              "<Figure size 1080x360 with 1 Axes>"
            ]
          },
          "metadata": {
            "tags": [],
            "needs_background": "light"
          }
        }
      ]
    },
    {
      "cell_type": "code",
      "metadata": {
        "colab": {
          "base_uri": "https://localhost:8080/",
          "height": 234
        },
        "id": "QSmd_vdLatlB",
        "outputId": "04396eb4-0794-4624-a354-61b84eaf8b7e"
      },
      "source": [
        "top_5_songs"
      ],
      "execution_count": 44,
      "outputs": [
        {
          "output_type": "execute_result",
          "data": {
            "text/html": [
              "<div>\n",
              "<style scoped>\n",
              "    .dataframe tbody tr th:only-of-type {\n",
              "        vertical-align: middle;\n",
              "    }\n",
              "\n",
              "    .dataframe tbody tr th {\n",
              "        vertical-align: top;\n",
              "    }\n",
              "\n",
              "    .dataframe thead th {\n",
              "        text-align: right;\n",
              "    }\n",
              "</style>\n",
              "<table border=\"1\" class=\"dataframe\">\n",
              "  <thead>\n",
              "    <tr style=\"text-align: right;\">\n",
              "      <th></th>\n",
              "      <th>count</th>\n",
              "    </tr>\n",
              "    <tr>\n",
              "      <th>release</th>\n",
              "      <th></th>\n",
              "    </tr>\n",
              "  </thead>\n",
              "  <tbody>\n",
              "    <tr>\n",
              "      <th>Sehr kosmisch</th>\n",
              "      <td>5043</td>\n",
              "    </tr>\n",
              "    <tr>\n",
              "      <th>Undo</th>\n",
              "      <td>4483</td>\n",
              "    </tr>\n",
              "    <tr>\n",
              "      <th>You're The One</th>\n",
              "      <td>4270</td>\n",
              "    </tr>\n",
              "    <tr>\n",
              "      <th>Dog Days Are Over (Radio Edit)</th>\n",
              "      <td>3780</td>\n",
              "    </tr>\n",
              "    <tr>\n",
              "      <th>Revelry</th>\n",
              "      <td>3672</td>\n",
              "    </tr>\n",
              "  </tbody>\n",
              "</table>\n",
              "</div>"
            ],
            "text/plain": [
              "                                count\n",
              "release                              \n",
              "Sehr kosmisch                    5043\n",
              "Undo                             4483\n",
              "You're The One                   4270\n",
              "Dog Days Are Over (Radio Edit)   3780\n",
              "Revelry                          3672"
            ]
          },
          "metadata": {
            "tags": []
          },
          "execution_count": 44
        }
      ]
    },
    {
      "cell_type": "code",
      "metadata": {
        "colab": {
          "base_uri": "https://localhost:8080/"
        },
        "id": "LBSMsf1PatlC",
        "outputId": "852d5dad-8c16-44dd-fe81-37fdad3a1169"
      },
      "source": [
        "song_df[song_df['release'] == 'Sehr kosmisch']['artist_name'].unique()"
      ],
      "execution_count": 45,
      "outputs": [
        {
          "output_type": "execute_result",
          "data": {
            "text/plain": [
              "array(['Harmonia'], dtype=object)"
            ]
          },
          "metadata": {
            "tags": []
          },
          "execution_count": 45
        }
      ]
    },
    {
      "cell_type": "code",
      "metadata": {
        "colab": {
          "base_uri": "https://localhost:8080/"
        },
        "id": "ielolgd5atlD",
        "outputId": "e1c9d985-19b0-4e75-e83b-30731f7a3104"
      },
      "source": [
        "list =  ['Sehr kosmisch','Undo',\"You're The One\",'Dog Days Are Over (Radio Edit)','Revelry']\n",
        "for i in list:\n",
        "    print(song_df[song_df['release'] == i]['artist_name'].unique())"
      ],
      "execution_count": 46,
      "outputs": [
        {
          "output_type": "stream",
          "text": [
            "['Harmonia']\n",
            "['Björk']\n",
            "['Dwight Yoakam' 'The Black Keys' 'Cece Winans' 'SWV'\n",
            " 'Blood_ Sweat & Tears' 'Guerilla Black featuring Mario Winans'\n",
            " 'Sugarcult' 'Shane MacGowan And The Popes' 'The Vogues' 'Natalie'\n",
            " 'Brown Boy' 'Clannad' 'Buddy Holly' 'Spoken']\n",
            "['Florence + The Machine']\n",
            "['Kings Of Leon']\n"
          ],
          "name": "stdout"
        }
      ]
    },
    {
      "cell_type": "code",
      "metadata": {
        "colab": {
          "base_uri": "https://localhost:8080/"
        },
        "id": "Nx0DAqRkatlE",
        "outputId": "c6b62abb-f07b-4348-af9c-f8af6e28508a"
      },
      "source": [
        "song_df[song_df['release'] == \"You're The One\"]['artist_name'].nunique()"
      ],
      "execution_count": 47,
      "outputs": [
        {
          "output_type": "execute_result",
          "data": {
            "text/plain": [
              "14"
            ]
          },
          "metadata": {
            "tags": []
          },
          "execution_count": 47
        }
      ]
    },
    {
      "cell_type": "code",
      "metadata": {
        "id": "6DPV99sQatlF"
      },
      "source": [
        "top_artist = sorted_artist_popularity.head()"
      ],
      "execution_count": 48,
      "outputs": []
    },
    {
      "cell_type": "code",
      "metadata": {
        "colab": {
          "base_uri": "https://localhost:8080/",
          "height": 234
        },
        "id": "pxqb6vIuatlG",
        "outputId": "1c631445-3bcf-4868-ea04-0f7af25a22f5"
      },
      "source": [
        "top_artist"
      ],
      "execution_count": 49,
      "outputs": [
        {
          "output_type": "execute_result",
          "data": {
            "text/html": [
              "<div>\n",
              "<style scoped>\n",
              "    .dataframe tbody tr th:only-of-type {\n",
              "        vertical-align: middle;\n",
              "    }\n",
              "\n",
              "    .dataframe tbody tr th {\n",
              "        vertical-align: top;\n",
              "    }\n",
              "\n",
              "    .dataframe thead th {\n",
              "        text-align: right;\n",
              "    }\n",
              "</style>\n",
              "<table border=\"1\" class=\"dataframe\">\n",
              "  <thead>\n",
              "    <tr style=\"text-align: right;\">\n",
              "      <th></th>\n",
              "      <th>count</th>\n",
              "    </tr>\n",
              "    <tr>\n",
              "      <th>artist_name</th>\n",
              "      <th></th>\n",
              "    </tr>\n",
              "  </thead>\n",
              "  <tbody>\n",
              "    <tr>\n",
              "      <th>Coldplay</th>\n",
              "      <td>10883</td>\n",
              "    </tr>\n",
              "    <tr>\n",
              "      <th>Florence + The Machine</th>\n",
              "      <td>8213</td>\n",
              "    </tr>\n",
              "    <tr>\n",
              "      <th>Train</th>\n",
              "      <td>6617</td>\n",
              "    </tr>\n",
              "    <tr>\n",
              "      <th>The Black Keys</th>\n",
              "      <td>6507</td>\n",
              "    </tr>\n",
              "    <tr>\n",
              "      <th>Jack Johnson</th>\n",
              "      <td>6104</td>\n",
              "    </tr>\n",
              "  </tbody>\n",
              "</table>\n",
              "</div>"
            ],
            "text/plain": [
              "                        count\n",
              "artist_name                  \n",
              "Coldplay                10883\n",
              "Florence + The Machine   8213\n",
              "Train                    6617\n",
              "The Black Keys           6507\n",
              "Jack Johnson             6104"
            ]
          },
          "metadata": {
            "tags": []
          },
          "execution_count": 49
        }
      ]
    },
    {
      "cell_type": "code",
      "metadata": {
        "colab": {
          "base_uri": "https://localhost:8080/",
          "height": 461
        },
        "id": "9pBtiaCwatlH",
        "outputId": "a8e77760-f0bd-4953-872e-f1c4751eea6e"
      },
      "source": [
        "top_artist.plot(kind='bar', figsize=(15,5));\n",
        "plt.title(\"Top 5 artist\")\n",
        "plt.ylabel('frequency');"
      ],
      "execution_count": 50,
      "outputs": [
        {
          "output_type": "display_data",
          "data": {
            "image/png": "[encoded data removed]",
            "text/plain": [
              "<Figure size 1080x360 with 1 Axes>"
            ]
          },
          "metadata": {
            "tags": [],
            "needs_background": "light"
          }
        }
      ]
    },
    {
      "cell_type": "code",
      "metadata": {
        "id": "BhUN5SeFatlI"
      },
      "source": [
        "music_lovers = songs_per_user.sort_values(by = 'count', ascending = False).head(20)"
      ],
      "execution_count": 51,
      "outputs": []
    },
    {
      "cell_type": "code",
      "metadata": {
        "colab": {
          "base_uri": "https://localhost:8080/",
          "height": 593
        },
        "id": "MQeEwIIAatlJ",
        "outputId": "305fa543-8118-40dd-a88b-df4b738c3378"
      },
      "source": [
        "music_lovers.plot(kind='bar', figsize=(15,5));\n",
        "plt.title(\"Top Music Listeners\")\n",
        "plt.ylabel('frequency');"
      ],
      "execution_count": 52,
      "outputs": [
        {
          "output_type": "display_data",
          "data": {
            "image/png": "[encoded data removed]",
            "text/plain": [
              "<Figure size 1080x360 with 1 Axes>"
            ]
          },
          "metadata": {
            "tags": [],
            "needs_background": "light"
          }
        }
      ]
    },
    {
      "cell_type": "code",
      "metadata": {
        "colab": {
          "base_uri": "https://localhost:8080/"
        },
        "id": "SlYp2NVzatlK",
        "outputId": "51d37b4a-ddce-47ed-cd53-fd2a776cf3a9"
      },
      "source": [
        "top_5_songs.shape"
      ],
      "execution_count": 53,
      "outputs": [
        {
          "output_type": "execute_result",
          "data": {
            "text/plain": [
              "(5, 1)"
            ]
          },
          "metadata": {
            "tags": []
          },
          "execution_count": 53
        }
      ]
    },
    {
      "cell_type": "code",
      "metadata": {
        "id": "3DDEtVBuatlM"
      },
      "source": [
        "top_5_songs_artist = ['Harmonia','BjÃ¶rk','Dwight Yoakam(along with other 13 artist)','Florence + The Machine','Kings Of Leon']\n",
        "top_5_songs['Artist_of_the_song'] = top_5_songs_artist"
      ],
      "execution_count": 54,
      "outputs": []
    },
    {
      "cell_type": "code",
      "metadata": {
        "colab": {
          "base_uri": "https://localhost:8080/",
          "height": 234
        },
        "id": "S7BDzfPbatlN",
        "outputId": "0388832d-c1b6-4146-dd93-776d61490696"
      },
      "source": [
        "top_5_songs"
      ],
      "execution_count": 55,
      "outputs": [
        {
          "output_type": "execute_result",
          "data": {
            "text/html": [
              "<div>\n",
              "<style scoped>\n",
              "    .dataframe tbody tr th:only-of-type {\n",
              "        vertical-align: middle;\n",
              "    }\n",
              "\n",
              "    .dataframe tbody tr th {\n",
              "        vertical-align: top;\n",
              "    }\n",
              "\n",
              "    .dataframe thead th {\n",
              "        text-align: right;\n",
              "    }\n",
              "</style>\n",
              "<table border=\"1\" class=\"dataframe\">\n",
              "  <thead>\n",
              "    <tr style=\"text-align: right;\">\n",
              "      <th></th>\n",
              "      <th>count</th>\n",
              "      <th>Artist_of_the_song</th>\n",
              "    </tr>\n",
              "    <tr>\n",
              "      <th>release</th>\n",
              "      <th></th>\n",
              "      <th></th>\n",
              "    </tr>\n",
              "  </thead>\n",
              "  <tbody>\n",
              "    <tr>\n",
              "      <th>Sehr kosmisch</th>\n",
              "      <td>5043</td>\n",
              "      <td>Harmonia</td>\n",
              "    </tr>\n",
              "    <tr>\n",
              "      <th>Undo</th>\n",
              "      <td>4483</td>\n",
              "      <td>BjÃ¶rk</td>\n",
              "    </tr>\n",
              "    <tr>\n",
              "      <th>You're The One</th>\n",
              "      <td>4270</td>\n",
              "      <td>Dwight Yoakam(along with other 13 artist)</td>\n",
              "    </tr>\n",
              "    <tr>\n",
              "      <th>Dog Days Are Over (Radio Edit)</th>\n",
              "      <td>3780</td>\n",
              "      <td>Florence + The Machine</td>\n",
              "    </tr>\n",
              "    <tr>\n",
              "      <th>Revelry</th>\n",
              "      <td>3672</td>\n",
              "      <td>Kings Of Leon</td>\n",
              "    </tr>\n",
              "  </tbody>\n",
              "</table>\n",
              "</div>"
            ],
            "text/plain": [
              "                                count                         Artist_of_the_song\n",
              "release                                                                         \n",
              "Sehr kosmisch                    5043                                   Harmonia\n",
              "Undo                             4483                                     BjÃ¶rk\n",
              "You're The One                   4270  Dwight Yoakam(along with other 13 artist)\n",
              "Dog Days Are Over (Radio Edit)   3780                     Florence + The Machine\n",
              "Revelry                          3672                              Kings Of Leon"
            ]
          },
          "metadata": {
            "tags": []
          },
          "execution_count": 55
        }
      ]
    },
    {
      "cell_type": "code",
      "metadata": {
        "colab": {
          "base_uri": "https://localhost:8080/"
        },
        "id": "sl0YLe2aatlO",
        "outputId": "0bea697c-357d-41ca-a971-f234df36f908"
      },
      "source": [
        "count_list = []\n",
        "for i in range(5):\n",
        "    count_list.append(top_5_songs['count'][i])\n",
        "\n",
        "count_list  \n",
        "    "
      ],
      "execution_count": 56,
      "outputs": [
        {
          "output_type": "execute_result",
          "data": {
            "text/plain": [
              "[5043, 4483, 4270, 3780, 3672]"
            ]
          },
          "metadata": {
            "tags": []
          },
          "execution_count": 56
        }
      ]
    },
    {
      "cell_type": "code",
      "metadata": {
        "colab": {
          "base_uri": "https://localhost:8080/",
          "height": 320
        },
        "id": "JC3r4HdEatlP",
        "outputId": "c5c88114-9f36-4750-d1be-d827fc8d1f77"
      },
      "source": [
        "plt.figure(figsize=(15,5))\n",
        "y = count_list\n",
        "x = ['Sehr kosmisch','Undo',\"You're The One\",'Dog Days Are Over (Radio Edit)','Revelry']\n",
        "\n",
        "\n",
        "sns.barplot(x = x,y = y,hue = top_5_songs_artist);"
      ],
      "execution_count": 57,
      "outputs": [
        {
          "output_type": "display_data",
          "data": {
            "image/png": "[encoded data removed]",
            "text/plain": [
              "<Figure size 1080x360 with 1 Axes>"
            ]
          },
          "metadata": {
            "tags": [],
            "needs_background": "light"
          }
        }
      ]
    },
    {
      "cell_type": "markdown",
      "metadata": {
        "id": "IBeOBLzbatlQ"
      },
      "source": [
        "* The above graph shows the top 5 songs and their respective artists name"
      ]
    },
    {
      "cell_type": "code",
      "metadata": {
        "colab": {
          "base_uri": "https://localhost:8080/",
          "height": 450
        },
        "id": "AvFnN792atlQ",
        "outputId": "1e285b54-9186-4945-8b0b-14c34c7e0859"
      },
      "source": [
        "song_df"
      ],
      "execution_count": 58,
      "outputs": [
        {
          "output_type": "execute_result",
          "data": {
            "text/html": [
              "<div>\n",
              "<style scoped>\n",
              "    .dataframe tbody tr th:only-of-type {\n",
              "        vertical-align: middle;\n",
              "    }\n",
              "\n",
              "    .dataframe tbody tr th {\n",
              "        vertical-align: top;\n",
              "    }\n",
              "\n",
              "    .dataframe thead th {\n",
              "        text-align: right;\n",
              "    }\n",
              "</style>\n",
              "<table border=\"1\" class=\"dataframe\">\n",
              "  <thead>\n",
              "    <tr style=\"text-align: right;\">\n",
              "      <th></th>\n",
              "      <th>user_id</th>\n",
              "      <th>song_id</th>\n",
              "      <th>freq</th>\n",
              "      <th>artist_name</th>\n",
              "      <th>release</th>\n",
              "    </tr>\n",
              "  </thead>\n",
              "  <tbody>\n",
              "    <tr>\n",
              "      <th>0</th>\n",
              "      <td>fd50c4007b68a3737fe052d5a4f78ce8aa117f3d</td>\n",
              "      <td>SOBONKR12A58A7A7E0</td>\n",
              "      <td>1</td>\n",
              "      <td>Dwight Yoakam</td>\n",
              "      <td>You're The One</td>\n",
              "    </tr>\n",
              "    <tr>\n",
              "      <th>1</th>\n",
              "      <td>fd50c4007b68a3737fe052d5a4f78ce8aa117f3d</td>\n",
              "      <td>SOEGIYH12A6D4FC0E3</td>\n",
              "      <td>1</td>\n",
              "      <td>Barry Tuckwell/Academy of St Martin-in-the-Fie...</td>\n",
              "      <td>Horn Concerto No. 4 in E flat K495: II. Romanc...</td>\n",
              "    </tr>\n",
              "    <tr>\n",
              "      <th>2</th>\n",
              "      <td>fd50c4007b68a3737fe052d5a4f78ce8aa117f3d</td>\n",
              "      <td>SOFLJQZ12A6D4FADA6</td>\n",
              "      <td>1</td>\n",
              "      <td>Cartola</td>\n",
              "      <td>Tive Sim</td>\n",
              "    </tr>\n",
              "    <tr>\n",
              "      <th>3</th>\n",
              "      <td>fd50c4007b68a3737fe052d5a4f78ce8aa117f3d</td>\n",
              "      <td>SOHTKMO12AB01843B0</td>\n",
              "      <td>1</td>\n",
              "      <td>Lonnie Gordon</td>\n",
              "      <td>Catch You Baby (Steve Pitron &amp; Max Sanna Radio...</td>\n",
              "    </tr>\n",
              "    <tr>\n",
              "      <th>4</th>\n",
              "      <td>fd50c4007b68a3737fe052d5a4f78ce8aa117f3d</td>\n",
              "      <td>SODQZCY12A6D4F9D11</td>\n",
              "      <td>1</td>\n",
              "      <td>Miguel Calo</td>\n",
              "      <td>El Cuatrero</td>\n",
              "    </tr>\n",
              "    <tr>\n",
              "      <th>...</th>\n",
              "      <td>...</td>\n",
              "      <td>...</td>\n",
              "      <td>...</td>\n",
              "      <td>...</td>\n",
              "      <td>...</td>\n",
              "    </tr>\n",
              "    <tr>\n",
              "      <th>1450928</th>\n",
              "      <td>5e650759ebf89012044c6d52121eeada8b0ec814</td>\n",
              "      <td>SOVLNXV12A6D4F706E</td>\n",
              "      <td>1</td>\n",
              "      <td>Mos Def</td>\n",
              "      <td>Ms. Fat Booty</td>\n",
              "    </tr>\n",
              "    <tr>\n",
              "      <th>1450929</th>\n",
              "      <td>5e650759ebf89012044c6d52121eeada8b0ec814</td>\n",
              "      <td>SOVDSJC12A58A7A271</td>\n",
              "      <td>2</td>\n",
              "      <td>Sam Cooke</td>\n",
              "      <td>Ain't Misbehavin</td>\n",
              "    </tr>\n",
              "    <tr>\n",
              "      <th>1450930</th>\n",
              "      <td>5e650759ebf89012044c6d52121eeada8b0ec814</td>\n",
              "      <td>SOBRHVR12A8C133F35</td>\n",
              "      <td>2</td>\n",
              "      <td>Southside Spinners</td>\n",
              "      <td>Luvstruck</td>\n",
              "    </tr>\n",
              "    <tr>\n",
              "      <th>1450931</th>\n",
              "      <td>5e650759ebf89012044c6d52121eeada8b0ec814</td>\n",
              "      <td>SOMGVYU12A8C1314FF</td>\n",
              "      <td>2</td>\n",
              "      <td>J. Karjalainen &amp; Mustat Lasit</td>\n",
              "      <td>Sinisten tähtien alla</td>\n",
              "    </tr>\n",
              "    <tr>\n",
              "      <th>1450932</th>\n",
              "      <td>5e650759ebf89012044c6d52121eeada8b0ec814</td>\n",
              "      <td>SOTCMDJ12A6D4F8528</td>\n",
              "      <td>3</td>\n",
              "      <td>Angels and Airwaves</td>\n",
              "      <td>The Gift</td>\n",
              "    </tr>\n",
              "  </tbody>\n",
              "</table>\n",
              "<p>1450933 rows × 5 columns</p>\n",
              "</div>"
            ],
            "text/plain": [
              "                                          user_id  ...                                            release\n",
              "0        fd50c4007b68a3737fe052d5a4f78ce8aa117f3d  ...                                     You're The One\n",
              "1        fd50c4007b68a3737fe052d5a4f78ce8aa117f3d  ...  Horn Concerto No. 4 in E flat K495: II. Romanc...\n",
              "2        fd50c4007b68a3737fe052d5a4f78ce8aa117f3d  ...                                           Tive Sim\n",
              "3        fd50c4007b68a3737fe052d5a4f78ce8aa117f3d  ...  Catch You Baby (Steve Pitron & Max Sanna Radio...\n",
              "4        fd50c4007b68a3737fe052d5a4f78ce8aa117f3d  ...                                        El Cuatrero\n",
              "...                                           ...  ...                                                ...\n",
              "1450928  5e650759ebf89012044c6d52121eeada8b0ec814  ...                                      Ms. Fat Booty\n",
              "1450929  5e650759ebf89012044c6d52121eeada8b0ec814  ...                                   Ain't Misbehavin\n",
              "1450930  5e650759ebf89012044c6d52121eeada8b0ec814  ...                                          Luvstruck\n",
              "1450931  5e650759ebf89012044c6d52121eeada8b0ec814  ...                              Sinisten tähtien alla\n",
              "1450932  5e650759ebf89012044c6d52121eeada8b0ec814  ...                                           The Gift\n",
              "\n",
              "[1450933 rows x 5 columns]"
            ]
          },
          "metadata": {
            "tags": []
          },
          "execution_count": 58
        }
      ]
    },
    {
      "cell_type": "code",
      "metadata": {
        "colab": {
          "base_uri": "https://localhost:8080/"
        },
        "id": "wXHv2N3aatlR",
        "outputId": "3666ae2a-fb50-4aa8-fe3f-77d8800c144a"
      },
      "source": [
        "song_df[song_df['artist_name'] == 'Justin Bieber']['release'].unique()"
      ],
      "execution_count": 59,
      "outputs": [
        {
          "output_type": "execute_result",
          "data": {
            "text/plain": [
              "array(['Down To Earth', 'One Time', 'U Smile', 'Favorite Girl', 'Love Me',\n",
              "       'Common Denominator', 'Never Let You Go', 'Stuck In The Moment',\n",
              "       'Up', 'One Less Lonely Girl', 'That Should Be Me', 'Bigger',\n",
              "       'Runaway Love'], dtype=object)"
            ]
          },
          "metadata": {
            "tags": []
          },
          "execution_count": 59
        }
      ]
    },
    {
      "cell_type": "code",
      "metadata": {
        "colab": {
          "base_uri": "https://localhost:8080/",
          "height": 417
        },
        "id": "znTPn0gZatlS",
        "outputId": "34d587f4-4c81-4da5-d557-e57eda37a17c"
      },
      "source": [
        "song_df[song_df['release'] == 'Down To Earth']"
      ],
      "execution_count": 60,
      "outputs": [
        {
          "output_type": "execute_result",
          "data": {
            "text/html": [
              "<div>\n",
              "<style scoped>\n",
              "    .dataframe tbody tr th:only-of-type {\n",
              "        vertical-align: middle;\n",
              "    }\n",
              "\n",
              "    .dataframe tbody tr th {\n",
              "        vertical-align: top;\n",
              "    }\n",
              "\n",
              "    .dataframe thead th {\n",
              "        text-align: right;\n",
              "    }\n",
              "</style>\n",
              "<table border=\"1\" class=\"dataframe\">\n",
              "  <thead>\n",
              "    <tr style=\"text-align: right;\">\n",
              "      <th></th>\n",
              "      <th>user_id</th>\n",
              "      <th>song_id</th>\n",
              "      <th>freq</th>\n",
              "      <th>artist_name</th>\n",
              "      <th>release</th>\n",
              "    </tr>\n",
              "  </thead>\n",
              "  <tbody>\n",
              "    <tr>\n",
              "      <th>799</th>\n",
              "      <td>f6e34f0a68d5ea1344511e33486f956de361db78</td>\n",
              "      <td>SOFKFXC12AC90732A5</td>\n",
              "      <td>7</td>\n",
              "      <td>Justin Bieber</td>\n",
              "      <td>Down To Earth</td>\n",
              "    </tr>\n",
              "    <tr>\n",
              "      <th>5023</th>\n",
              "      <td>c48985d93d590dff33d20094eebc863b0cb455e8</td>\n",
              "      <td>SOFKFXC12AC90732A5</td>\n",
              "      <td>1</td>\n",
              "      <td>Justin Bieber</td>\n",
              "      <td>Down To Earth</td>\n",
              "    </tr>\n",
              "    <tr>\n",
              "      <th>7604</th>\n",
              "      <td>0011d5f4fb02ff276763d385c3f2ded2b00ad94a</td>\n",
              "      <td>SOFKFXC12AC90732A5</td>\n",
              "      <td>3</td>\n",
              "      <td>Justin Bieber</td>\n",
              "      <td>Down To Earth</td>\n",
              "    </tr>\n",
              "    <tr>\n",
              "      <th>10389</th>\n",
              "      <td>4d986dc5459157e2665eb50017f826973beaa46b</td>\n",
              "      <td>SOFKFXC12AC90732A5</td>\n",
              "      <td>1</td>\n",
              "      <td>Justin Bieber</td>\n",
              "      <td>Down To Earth</td>\n",
              "    </tr>\n",
              "    <tr>\n",
              "      <th>16679</th>\n",
              "      <td>6e4464ecd8c2b529626e556e3530c35b9ddd3cac</td>\n",
              "      <td>SOFKFXC12AC90732A5</td>\n",
              "      <td>2</td>\n",
              "      <td>Justin Bieber</td>\n",
              "      <td>Down To Earth</td>\n",
              "    </tr>\n",
              "    <tr>\n",
              "      <th>...</th>\n",
              "      <td>...</td>\n",
              "      <td>...</td>\n",
              "      <td>...</td>\n",
              "      <td>...</td>\n",
              "      <td>...</td>\n",
              "    </tr>\n",
              "    <tr>\n",
              "      <th>1429769</th>\n",
              "      <td>785e593ec8b1d60163a4961389ab4d5f502f44e5</td>\n",
              "      <td>SOFKFXC12AC90732A5</td>\n",
              "      <td>1</td>\n",
              "      <td>Justin Bieber</td>\n",
              "      <td>Down To Earth</td>\n",
              "    </tr>\n",
              "    <tr>\n",
              "      <th>1433057</th>\n",
              "      <td>2fc231bd85945993c1b97a7c74608d75e284b553</td>\n",
              "      <td>SOFKFXC12AC90732A5</td>\n",
              "      <td>2</td>\n",
              "      <td>Justin Bieber</td>\n",
              "      <td>Down To Earth</td>\n",
              "    </tr>\n",
              "    <tr>\n",
              "      <th>1439632</th>\n",
              "      <td>ce3fc8c8f35faab4b6595665e25e2a0c1a988833</td>\n",
              "      <td>SOFKFXC12AC90732A5</td>\n",
              "      <td>2</td>\n",
              "      <td>Justin Bieber</td>\n",
              "      <td>Down To Earth</td>\n",
              "    </tr>\n",
              "    <tr>\n",
              "      <th>1446535</th>\n",
              "      <td>20e4da491ef9c24c0cc68611abe24d1832bb15ba</td>\n",
              "      <td>SOFKFXC12AC90732A5</td>\n",
              "      <td>9</td>\n",
              "      <td>Justin Bieber</td>\n",
              "      <td>Down To Earth</td>\n",
              "    </tr>\n",
              "    <tr>\n",
              "      <th>1449877</th>\n",
              "      <td>f11f12182bee229c2d8bb45582b26e1b544a9646</td>\n",
              "      <td>SOFKFXC12AC90732A5</td>\n",
              "      <td>1</td>\n",
              "      <td>Justin Bieber</td>\n",
              "      <td>Down To Earth</td>\n",
              "    </tr>\n",
              "  </tbody>\n",
              "</table>\n",
              "<p>439 rows × 5 columns</p>\n",
              "</div>"
            ],
            "text/plain": [
              "                                          user_id  ...        release\n",
              "799      f6e34f0a68d5ea1344511e33486f956de361db78  ...  Down To Earth\n",
              "5023     c48985d93d590dff33d20094eebc863b0cb455e8  ...  Down To Earth\n",
              "7604     0011d5f4fb02ff276763d385c3f2ded2b00ad94a  ...  Down To Earth\n",
              "10389    4d986dc5459157e2665eb50017f826973beaa46b  ...  Down To Earth\n",
              "16679    6e4464ecd8c2b529626e556e3530c35b9ddd3cac  ...  Down To Earth\n",
              "...                                           ...  ...            ...\n",
              "1429769  785e593ec8b1d60163a4961389ab4d5f502f44e5  ...  Down To Earth\n",
              "1433057  2fc231bd85945993c1b97a7c74608d75e284b553  ...  Down To Earth\n",
              "1439632  ce3fc8c8f35faab4b6595665e25e2a0c1a988833  ...  Down To Earth\n",
              "1446535  20e4da491ef9c24c0cc68611abe24d1832bb15ba  ...  Down To Earth\n",
              "1449877  f11f12182bee229c2d8bb45582b26e1b544a9646  ...  Down To Earth\n",
              "\n",
              "[439 rows x 5 columns]"
            ]
          },
          "metadata": {
            "tags": []
          },
          "execution_count": 60
        }
      ]
    },
    {
      "cell_type": "code",
      "metadata": {
        "colab": {
          "base_uri": "https://localhost:8080/"
        },
        "id": "FUt2V3swatlS",
        "outputId": "e7e1d9be-1f77-44ad-8c05-7d325fb3e06d"
      },
      "source": [
        "sum(song_df['release'] == 'Down To Earth')"
      ],
      "execution_count": 61,
      "outputs": [
        {
          "output_type": "execute_result",
          "data": {
            "text/plain": [
              "439"
            ]
          },
          "metadata": {
            "tags": []
          },
          "execution_count": 61
        }
      ]
    },
    {
      "cell_type": "markdown",
      "metadata": {
        "id": "h_vOkqSuatlT"
      },
      "source": [
        "* the above shows that number of unique users for **release down to earth** by **justin bieber**"
      ]
    },
    {
      "cell_type": "code",
      "metadata": {
        "id": "JJzqeEPHatlU"
      },
      "source": [
        "justin_songs = ['Down To Earth', 'One Time', 'U Smile', 'Favorite Girl', 'Love Me',\n",
        "       'Common Denominator', 'Never Let You Go', 'Stuck In The Moment',\n",
        "       'Up', 'One Less Lonely Girl', 'That Should Be Me', 'Bigger',\n",
        "       'Runaway Love']\n",
        "unique_users_count = []\n",
        "\n",
        "for i in justin_songs:\n",
        "    #print(i)\n",
        "    unique_users_count.append(sum(song_df['release'] == i))\n",
        "    \n"
      ],
      "execution_count": 62,
      "outputs": []
    },
    {
      "cell_type": "code",
      "metadata": {
        "colab": {
          "base_uri": "https://localhost:8080/"
        },
        "id": "vo4spkd0atlU",
        "outputId": "d9a3f4ae-b73a-43f2-9bd1-e04aa694d7bc"
      },
      "source": [
        "unique_users_count"
      ],
      "execution_count": 63,
      "outputs": [
        {
          "output_type": "execute_result",
          "data": {
            "text/plain": [
              "[439, 767, 839, 278, 688, 248, 596, 422, 274, 578, 560, 228, 276]"
            ]
          },
          "metadata": {
            "tags": []
          },
          "execution_count": 63
        }
      ]
    },
    {
      "cell_type": "code",
      "metadata": {
        "colab": {
          "base_uri": "https://localhost:8080/",
          "height": 690
        },
        "id": "UbvqwHEaatlV",
        "outputId": "52dc20f6-759f-47dc-aefd-22afd0e9da83"
      },
      "source": [
        "plt.figure(figsize=(25,15))\n",
        "y = unique_users_count\n",
        "x = justin_songs\n",
        "plt.xlabel(\"Justin Songs\")\n",
        "plt.ylabel(\"Number of unique listeners of each song\")\n",
        "\n",
        "plt.title(\"Songs v/s user count\")\n",
        "\n",
        "sns.barplot(x = x,y = y);"
      ],
      "execution_count": 64,
      "outputs": [
        {
          "output_type": "display_data",
          "data": {
            "image/png": "[encoded data removed]",
            "text/plain": [
              "<Figure size 1800x1080 with 1 Axes>"
            ]
          },
          "metadata": {
            "tags": [],
            "needs_background": "light"
          }
        }
      ]
    },
    {
      "cell_type": "markdown",
      "metadata": {
        "id": "wMFNhylWatlW"
      },
      "source": [
        "* from above graph we observe that **U smile** song is most listened and **Bigger** song is least listened by the user "
      ]
    },
    {
      "cell_type": "markdown",
      "metadata": {
        "id": "8GAHpn3mH39G"
      },
      "source": [
        "# Artist analysis"
      ]
    },
    {
      "cell_type": "code",
      "metadata": {
        "id": "Pf9yCdTnatlW",
        "colab": {
          "base_uri": "https://localhost:8080/",
          "height": 237
        },
        "outputId": "c0f3dd0b-1f0c-4b44-d38d-1c08110fe812"
      },
      "source": [
        "song_df.head()"
      ],
      "execution_count": 65,
      "outputs": [
        {
          "output_type": "execute_result",
          "data": {
            "text/html": [
              "<div>\n",
              "<style scoped>\n",
              "    .dataframe tbody tr th:only-of-type {\n",
              "        vertical-align: middle;\n",
              "    }\n",
              "\n",
              "    .dataframe tbody tr th {\n",
              "        vertical-align: top;\n",
              "    }\n",
              "\n",
              "    .dataframe thead th {\n",
              "        text-align: right;\n",
              "    }\n",
              "</style>\n",
              "<table border=\"1\" class=\"dataframe\">\n",
              "  <thead>\n",
              "    <tr style=\"text-align: right;\">\n",
              "      <th></th>\n",
              "      <th>user_id</th>\n",
              "      <th>song_id</th>\n",
              "      <th>freq</th>\n",
              "      <th>artist_name</th>\n",
              "      <th>release</th>\n",
              "    </tr>\n",
              "  </thead>\n",
              "  <tbody>\n",
              "    <tr>\n",
              "      <th>0</th>\n",
              "      <td>fd50c4007b68a3737fe052d5a4f78ce8aa117f3d</td>\n",
              "      <td>SOBONKR12A58A7A7E0</td>\n",
              "      <td>1</td>\n",
              "      <td>Dwight Yoakam</td>\n",
              "      <td>You're The One</td>\n",
              "    </tr>\n",
              "    <tr>\n",
              "      <th>1</th>\n",
              "      <td>fd50c4007b68a3737fe052d5a4f78ce8aa117f3d</td>\n",
              "      <td>SOEGIYH12A6D4FC0E3</td>\n",
              "      <td>1</td>\n",
              "      <td>Barry Tuckwell/Academy of St Martin-in-the-Fie...</td>\n",
              "      <td>Horn Concerto No. 4 in E flat K495: II. Romanc...</td>\n",
              "    </tr>\n",
              "    <tr>\n",
              "      <th>2</th>\n",
              "      <td>fd50c4007b68a3737fe052d5a4f78ce8aa117f3d</td>\n",
              "      <td>SOFLJQZ12A6D4FADA6</td>\n",
              "      <td>1</td>\n",
              "      <td>Cartola</td>\n",
              "      <td>Tive Sim</td>\n",
              "    </tr>\n",
              "    <tr>\n",
              "      <th>3</th>\n",
              "      <td>fd50c4007b68a3737fe052d5a4f78ce8aa117f3d</td>\n",
              "      <td>SOHTKMO12AB01843B0</td>\n",
              "      <td>1</td>\n",
              "      <td>Lonnie Gordon</td>\n",
              "      <td>Catch You Baby (Steve Pitron &amp; Max Sanna Radio...</td>\n",
              "    </tr>\n",
              "    <tr>\n",
              "      <th>4</th>\n",
              "      <td>fd50c4007b68a3737fe052d5a4f78ce8aa117f3d</td>\n",
              "      <td>SODQZCY12A6D4F9D11</td>\n",
              "      <td>1</td>\n",
              "      <td>Miguel Calo</td>\n",
              "      <td>El Cuatrero</td>\n",
              "    </tr>\n",
              "  </tbody>\n",
              "</table>\n",
              "</div>"
            ],
            "text/plain": [
              "                                    user_id  ...                                            release\n",
              "0  fd50c4007b68a3737fe052d5a4f78ce8aa117f3d  ...                                     You're The One\n",
              "1  fd50c4007b68a3737fe052d5a4f78ce8aa117f3d  ...  Horn Concerto No. 4 in E flat K495: II. Romanc...\n",
              "2  fd50c4007b68a3737fe052d5a4f78ce8aa117f3d  ...                                           Tive Sim\n",
              "3  fd50c4007b68a3737fe052d5a4f78ce8aa117f3d  ...  Catch You Baby (Steve Pitron & Max Sanna Radio...\n",
              "4  fd50c4007b68a3737fe052d5a4f78ce8aa117f3d  ...                                        El Cuatrero\n",
              "\n",
              "[5 rows x 5 columns]"
            ]
          },
          "metadata": {
            "tags": []
          },
          "execution_count": 65
        }
      ]
    },
    {
      "cell_type": "code",
      "metadata": {
        "id": "_VcpnzTNGxhN"
      },
      "source": [
        "artist_data = song_df[['artist_name','freq']]"
      ],
      "execution_count": 66,
      "outputs": []
    },
    {
      "cell_type": "code",
      "metadata": {
        "colab": {
          "base_uri": "https://localhost:8080/",
          "height": 203
        },
        "id": "Q1pfiJnKG5KR",
        "outputId": "1d6936c5-40fb-4e18-f221-dd383a459754"
      },
      "source": [
        "artist_data.head()"
      ],
      "execution_count": 67,
      "outputs": [
        {
          "output_type": "execute_result",
          "data": {
            "text/html": [
              "<div>\n",
              "<style scoped>\n",
              "    .dataframe tbody tr th:only-of-type {\n",
              "        vertical-align: middle;\n",
              "    }\n",
              "\n",
              "    .dataframe tbody tr th {\n",
              "        vertical-align: top;\n",
              "    }\n",
              "\n",
              "    .dataframe thead th {\n",
              "        text-align: right;\n",
              "    }\n",
              "</style>\n",
              "<table border=\"1\" class=\"dataframe\">\n",
              "  <thead>\n",
              "    <tr style=\"text-align: right;\">\n",
              "      <th></th>\n",
              "      <th>artist_name</th>\n",
              "      <th>freq</th>\n",
              "    </tr>\n",
              "  </thead>\n",
              "  <tbody>\n",
              "    <tr>\n",
              "      <th>0</th>\n",
              "      <td>Dwight Yoakam</td>\n",
              "      <td>1</td>\n",
              "    </tr>\n",
              "    <tr>\n",
              "      <th>1</th>\n",
              "      <td>Barry Tuckwell/Academy of St Martin-in-the-Fie...</td>\n",
              "      <td>1</td>\n",
              "    </tr>\n",
              "    <tr>\n",
              "      <th>2</th>\n",
              "      <td>Cartola</td>\n",
              "      <td>1</td>\n",
              "    </tr>\n",
              "    <tr>\n",
              "      <th>3</th>\n",
              "      <td>Lonnie Gordon</td>\n",
              "      <td>1</td>\n",
              "    </tr>\n",
              "    <tr>\n",
              "      <th>4</th>\n",
              "      <td>Miguel Calo</td>\n",
              "      <td>1</td>\n",
              "    </tr>\n",
              "  </tbody>\n",
              "</table>\n",
              "</div>"
            ],
            "text/plain": [
              "                                         artist_name  freq\n",
              "0                                      Dwight Yoakam     1\n",
              "1  Barry Tuckwell/Academy of St Martin-in-the-Fie...     1\n",
              "2                                            Cartola     1\n",
              "3                                      Lonnie Gordon     1\n",
              "4                                        Miguel Calo     1"
            ]
          },
          "metadata": {
            "tags": []
          },
          "execution_count": 67
        }
      ]
    },
    {
      "cell_type": "code",
      "metadata": {
        "colab": {
          "base_uri": "https://localhost:8080/"
        },
        "id": "eTjcH_YaJoVL",
        "outputId": "06365129-e432-4f3f-aaa1-55004c7677aa"
      },
      "source": [
        "artist_data['artist_name'].value_counts()[0:5]"
      ],
      "execution_count": 118,
      "outputs": [
        {
          "output_type": "execute_result",
          "data": {
            "text/plain": [
              "Coldplay                  10883\n",
              "Florence + The Machine     8213\n",
              "Train                      6617\n",
              "The Black Keys             6507\n",
              "Jack Johnson               6104\n",
              "Name: artist_name, dtype: int64"
            ]
          },
          "metadata": {
            "tags": []
          },
          "execution_count": 118
        }
      ]
    },
    {
      "cell_type": "code",
      "metadata": {
        "colab": {
          "base_uri": "https://localhost:8080/"
        },
        "id": "KFnGdcVqJ68J",
        "outputId": "f3f2f04d-5d8f-4e94-98be-ceba8a68130f"
      },
      "source": [
        "artist_data['artist_name'].value_counts()[0:5].keys()"
      ],
      "execution_count": 119,
      "outputs": [
        {
          "output_type": "execute_result",
          "data": {
            "text/plain": [
              "Index(['Coldplay', 'Florence + The Machine', 'Train', 'The Black Keys',\n",
              "       'Jack Johnson'],\n",
              "      dtype='object')"
            ]
          },
          "metadata": {
            "tags": []
          },
          "execution_count": 119
        }
      ]
    },
    {
      "cell_type": "code",
      "metadata": {
        "id": "P-76DNDM2JVs"
      },
      "source": [
        "artist_aggr = artist_data.groupby('artist_name', as_index=False).sum()"
      ],
      "execution_count": 68,
      "outputs": []
    },
    {
      "cell_type": "code",
      "metadata": {
        "colab": {
          "base_uri": "https://localhost:8080/",
          "height": 203
        },
        "id": "9AcSHOuYG9SK",
        "outputId": "91e0e685-aa7a-4197-fdbb-95e148c113a6"
      },
      "source": [
        "artist_aggr.head()"
      ],
      "execution_count": 69,
      "outputs": [
        {
          "output_type": "execute_result",
          "data": {
            "text/html": [
              "<div>\n",
              "<style scoped>\n",
              "    .dataframe tbody tr th:only-of-type {\n",
              "        vertical-align: middle;\n",
              "    }\n",
              "\n",
              "    .dataframe tbody tr th {\n",
              "        vertical-align: top;\n",
              "    }\n",
              "\n",
              "    .dataframe thead th {\n",
              "        text-align: right;\n",
              "    }\n",
              "</style>\n",
              "<table border=\"1\" class=\"dataframe\">\n",
              "  <thead>\n",
              "    <tr style=\"text-align: right;\">\n",
              "      <th></th>\n",
              "      <th>artist_name</th>\n",
              "      <th>freq</th>\n",
              "    </tr>\n",
              "  </thead>\n",
              "  <tbody>\n",
              "    <tr>\n",
              "      <th>0</th>\n",
              "      <td>!!!</td>\n",
              "      <td>325</td>\n",
              "    </tr>\n",
              "    <tr>\n",
              "      <th>1</th>\n",
              "      <td>!Deladap</td>\n",
              "      <td>8</td>\n",
              "    </tr>\n",
              "    <tr>\n",
              "      <th>2</th>\n",
              "      <td>&amp; And Oceans</td>\n",
              "      <td>9</td>\n",
              "    </tr>\n",
              "    <tr>\n",
              "      <th>3</th>\n",
              "      <td>'68 Comeback</td>\n",
              "      <td>49</td>\n",
              "    </tr>\n",
              "    <tr>\n",
              "      <th>4</th>\n",
              "      <td>'N Sync/Phil Collins</td>\n",
              "      <td>344</td>\n",
              "    </tr>\n",
              "  </tbody>\n",
              "</table>\n",
              "</div>"
            ],
            "text/plain": [
              "            artist_name  freq\n",
              "0                   !!!   325\n",
              "1              !Deladap     8\n",
              "2          & And Oceans     9\n",
              "3          '68 Comeback    49\n",
              "4  'N Sync/Phil Collins   344"
            ]
          },
          "metadata": {
            "tags": []
          },
          "execution_count": 69
        }
      ]
    },
    {
      "cell_type": "code",
      "metadata": {
        "colab": {
          "base_uri": "https://localhost:8080/"
        },
        "id": "JcIDQZ-XHCF6",
        "outputId": "a12f36cb-7f17-45d6-8c61-4238ff76f049"
      },
      "source": [
        "artist_aggr.shape"
      ],
      "execution_count": 70,
      "outputs": [
        {
          "output_type": "execute_result",
          "data": {
            "text/plain": [
              "(28337, 2)"
            ]
          },
          "metadata": {
            "tags": []
          },
          "execution_count": 70
        }
      ]
    },
    {
      "cell_type": "code",
      "metadata": {
        "colab": {
          "base_uri": "https://localhost:8080/"
        },
        "id": "BBGxXpMXHyFh",
        "outputId": "f93828bc-e831-4b9a-bfe7-bf3e6654c116"
      },
      "source": [
        "song_df['artist_name'].unique()"
      ],
      "execution_count": 71,
      "outputs": [
        {
          "output_type": "execute_result",
          "data": {
            "text/plain": [
              "array(['Dwight Yoakam',\n",
              "       'Barry Tuckwell/Academy of St Martin-in-the-Fields/Sir Neville Marriner',\n",
              "       'Cartola', ..., 'P.Paul Fenech', 'Mystic Rhythms', 'H.e.a.t'],\n",
              "      dtype=object)"
            ]
          },
          "metadata": {
            "tags": []
          },
          "execution_count": 71
        }
      ]
    },
    {
      "cell_type": "code",
      "metadata": {
        "colab": {
          "base_uri": "https://localhost:8080/"
        },
        "id": "35KWtgGrIOGi",
        "outputId": "76f5ff6d-1dda-4064-cc29-525089002f47"
      },
      "source": [
        "song_df['artist_name'].nunique()"
      ],
      "execution_count": 72,
      "outputs": [
        {
          "output_type": "execute_result",
          "data": {
            "text/plain": [
              "28337"
            ]
          },
          "metadata": {
            "tags": []
          },
          "execution_count": 72
        }
      ]
    },
    {
      "cell_type": "markdown",
      "metadata": {
        "id": "ggKyA0a5JJ9G"
      },
      "source": [
        "# clustering on Artist data"
      ]
    },
    {
      "cell_type": "code",
      "metadata": {
        "id": "iXpSi2qtIQ6N"
      },
      "source": [
        "from sklearn.cluster import KMeans\n",
        "km1 = KMeans(n_clusters=10)\n"
      ],
      "execution_count": 73,
      "outputs": []
    },
    {
      "cell_type": "code",
      "metadata": {
        "id": "o5Vs3rSaJYTw"
      },
      "source": [
        "artist_count = artist_aggr[['freq']]"
      ],
      "execution_count": 74,
      "outputs": []
    },
    {
      "cell_type": "code",
      "metadata": {
        "colab": {
          "base_uri": "https://localhost:8080/",
          "height": 203
        },
        "id": "KgXwlXhbJbfw",
        "outputId": "47a21d56-4443-4d79-8e2d-ec378ac54189"
      },
      "source": [
        "artist_count.head()"
      ],
      "execution_count": 75,
      "outputs": [
        {
          "output_type": "execute_result",
          "data": {
            "text/html": [
              "<div>\n",
              "<style scoped>\n",
              "    .dataframe tbody tr th:only-of-type {\n",
              "        vertical-align: middle;\n",
              "    }\n",
              "\n",
              "    .dataframe tbody tr th {\n",
              "        vertical-align: top;\n",
              "    }\n",
              "\n",
              "    .dataframe thead th {\n",
              "        text-align: right;\n",
              "    }\n",
              "</style>\n",
              "<table border=\"1\" class=\"dataframe\">\n",
              "  <thead>\n",
              "    <tr style=\"text-align: right;\">\n",
              "      <th></th>\n",
              "      <th>freq</th>\n",
              "    </tr>\n",
              "  </thead>\n",
              "  <tbody>\n",
              "    <tr>\n",
              "      <th>0</th>\n",
              "      <td>325</td>\n",
              "    </tr>\n",
              "    <tr>\n",
              "      <th>1</th>\n",
              "      <td>8</td>\n",
              "    </tr>\n",
              "    <tr>\n",
              "      <th>2</th>\n",
              "      <td>9</td>\n",
              "    </tr>\n",
              "    <tr>\n",
              "      <th>3</th>\n",
              "      <td>49</td>\n",
              "    </tr>\n",
              "    <tr>\n",
              "      <th>4</th>\n",
              "      <td>344</td>\n",
              "    </tr>\n",
              "  </tbody>\n",
              "</table>\n",
              "</div>"
            ],
            "text/plain": [
              "   freq\n",
              "0   325\n",
              "1     8\n",
              "2     9\n",
              "3    49\n",
              "4   344"
            ]
          },
          "metadata": {
            "tags": []
          },
          "execution_count": 75
        }
      ]
    },
    {
      "cell_type": "code",
      "metadata": {
        "colab": {
          "base_uri": "https://localhost:8080/"
        },
        "id": "ePVazVxnJftH",
        "outputId": "843c52ed-0d68-48fb-d6d2-587b8faef8c5"
      },
      "source": [
        "km1.fit(artist_count)"
      ],
      "execution_count": 76,
      "outputs": [
        {
          "output_type": "execute_result",
          "data": {
            "text/plain": [
              "KMeans(algorithm='auto', copy_x=True, init='k-means++', max_iter=300,\n",
              "       n_clusters=10, n_init=10, n_jobs=None, precompute_distances='auto',\n",
              "       random_state=None, tol=0.0001, verbose=0)"
            ]
          },
          "metadata": {
            "tags": []
          },
          "execution_count": 76
        }
      ]
    },
    {
      "cell_type": "code",
      "metadata": {
        "id": "7PFH-jMBJiSj"
      },
      "source": [
        "label1= km1.labels_"
      ],
      "execution_count": 77,
      "outputs": []
    },
    {
      "cell_type": "code",
      "metadata": {
        "colab": {
          "base_uri": "https://localhost:8080/"
        },
        "id": "UkqCaFYCJm7m",
        "outputId": "41e33e74-70ec-4064-ec32-977c86b26f50"
      },
      "source": [
        "label1"
      ],
      "execution_count": 78,
      "outputs": [
        {
          "output_type": "execute_result",
          "data": {
            "text/plain": [
              "array([7, 0, 0, ..., 7, 0, 0], dtype=int32)"
            ]
          },
          "metadata": {
            "tags": []
          },
          "execution_count": 78
        }
      ]
    },
    {
      "cell_type": "code",
      "metadata": {
        "id": "zYFxX-wZJoqW"
      },
      "source": [
        "artist_aggr['cluster_id'] = label1"
      ],
      "execution_count": 79,
      "outputs": []
    },
    {
      "cell_type": "code",
      "metadata": {
        "colab": {
          "base_uri": "https://localhost:8080/",
          "height": 758
        },
        "id": "ZAjKEeBCJrKg",
        "outputId": "5f9ee039-f220-43b8-ea46-71b5360d962f"
      },
      "source": [
        "artist_aggr[artist_aggr['cluster_id']==3]"
      ],
      "execution_count": 80,
      "outputs": [
        {
          "output_type": "execute_result",
          "data": {
            "text/html": [
              "<div>\n",
              "<style scoped>\n",
              "    .dataframe tbody tr th:only-of-type {\n",
              "        vertical-align: middle;\n",
              "    }\n",
              "\n",
              "    .dataframe tbody tr th {\n",
              "        vertical-align: top;\n",
              "    }\n",
              "\n",
              "    .dataframe thead th {\n",
              "        text-align: right;\n",
              "    }\n",
              "</style>\n",
              "<table border=\"1\" class=\"dataframe\">\n",
              "  <thead>\n",
              "    <tr style=\"text-align: right;\">\n",
              "      <th></th>\n",
              "      <th>artist_name</th>\n",
              "      <th>freq</th>\n",
              "      <th>cluster_id</th>\n",
              "    </tr>\n",
              "  </thead>\n",
              "  <tbody>\n",
              "    <tr>\n",
              "      <th>120</th>\n",
              "      <td>3 Doors Down</td>\n",
              "      <td>11467</td>\n",
              "      <td>3</td>\n",
              "    </tr>\n",
              "    <tr>\n",
              "      <th>1287</th>\n",
              "      <td>Angels and Airwaves</td>\n",
              "      <td>9535</td>\n",
              "      <td>3</td>\n",
              "    </tr>\n",
              "    <tr>\n",
              "      <th>2304</th>\n",
              "      <td>Beastie Boys</td>\n",
              "      <td>10900</td>\n",
              "      <td>3</td>\n",
              "    </tr>\n",
              "    <tr>\n",
              "      <th>2558</th>\n",
              "      <td>Beyoncé</td>\n",
              "      <td>10842</td>\n",
              "      <td>3</td>\n",
              "    </tr>\n",
              "    <tr>\n",
              "      <th>2871</th>\n",
              "      <td>Black Eyed Peas</td>\n",
              "      <td>13706</td>\n",
              "      <td>3</td>\n",
              "    </tr>\n",
              "    <tr>\n",
              "      <th>4191</th>\n",
              "      <td>Cartola</td>\n",
              "      <td>10369</td>\n",
              "      <td>3</td>\n",
              "    </tr>\n",
              "    <tr>\n",
              "      <th>5356</th>\n",
              "      <td>Creedence Clearwater Revival</td>\n",
              "      <td>10613</td>\n",
              "      <td>3</td>\n",
              "    </tr>\n",
              "    <tr>\n",
              "      <th>5809</th>\n",
              "      <td>Daft Punk</td>\n",
              "      <td>13424</td>\n",
              "      <td>3</td>\n",
              "    </tr>\n",
              "    <tr>\n",
              "      <th>7961</th>\n",
              "      <td>Eminem</td>\n",
              "      <td>12448</td>\n",
              "      <td>3</td>\n",
              "    </tr>\n",
              "    <tr>\n",
              "      <th>8729</th>\n",
              "      <td>Five Iron Frenzy</td>\n",
              "      <td>10164</td>\n",
              "      <td>3</td>\n",
              "    </tr>\n",
              "    <tr>\n",
              "      <th>12405</th>\n",
              "      <td>John Mayer</td>\n",
              "      <td>14522</td>\n",
              "      <td>3</td>\n",
              "    </tr>\n",
              "    <tr>\n",
              "      <th>14068</th>\n",
              "      <td>Lady GaGa</td>\n",
              "      <td>9538</td>\n",
              "      <td>3</td>\n",
              "    </tr>\n",
              "    <tr>\n",
              "      <th>14896</th>\n",
              "      <td>Lonnie Gordon</td>\n",
              "      <td>10585</td>\n",
              "      <td>3</td>\n",
              "    </tr>\n",
              "    <tr>\n",
              "      <th>17298</th>\n",
              "      <td>Muse</td>\n",
              "      <td>11417</td>\n",
              "      <td>3</td>\n",
              "    </tr>\n",
              "    <tr>\n",
              "      <th>17835</th>\n",
              "      <td>Nickelback</td>\n",
              "      <td>10215</td>\n",
              "      <td>3</td>\n",
              "    </tr>\n",
              "    <tr>\n",
              "      <th>18719</th>\n",
              "      <td>Paramore</td>\n",
              "      <td>9337</td>\n",
              "      <td>3</td>\n",
              "    </tr>\n",
              "    <tr>\n",
              "      <th>19875</th>\n",
              "      <td>Radiohead</td>\n",
              "      <td>13245</td>\n",
              "      <td>3</td>\n",
              "    </tr>\n",
              "    <tr>\n",
              "      <th>19971</th>\n",
              "      <td>Rammstein</td>\n",
              "      <td>9848</td>\n",
              "      <td>3</td>\n",
              "    </tr>\n",
              "    <tr>\n",
              "      <th>20529</th>\n",
              "      <td>Rise Against</td>\n",
              "      <td>10225</td>\n",
              "      <td>3</td>\n",
              "    </tr>\n",
              "    <tr>\n",
              "      <th>21163</th>\n",
              "      <td>Sam Cooke</td>\n",
              "      <td>11712</td>\n",
              "      <td>3</td>\n",
              "    </tr>\n",
              "    <tr>\n",
              "      <th>23533</th>\n",
              "      <td>Taylor Swift</td>\n",
              "      <td>11250</td>\n",
              "      <td>3</td>\n",
              "    </tr>\n",
              "    <tr>\n",
              "      <th>24746</th>\n",
              "      <td>The Killers</td>\n",
              "      <td>12837</td>\n",
              "      <td>3</td>\n",
              "    </tr>\n",
              "    <tr>\n",
              "      <th>26579</th>\n",
              "      <td>Tub Ring</td>\n",
              "      <td>10881</td>\n",
              "      <td>3</td>\n",
              "    </tr>\n",
              "  </tbody>\n",
              "</table>\n",
              "</div>"
            ],
            "text/plain": [
              "                        artist_name   freq  cluster_id\n",
              "120                    3 Doors Down  11467           3\n",
              "1287            Angels and Airwaves   9535           3\n",
              "2304                   Beastie Boys  10900           3\n",
              "2558                        Beyoncé  10842           3\n",
              "2871                Black Eyed Peas  13706           3\n",
              "4191                        Cartola  10369           3\n",
              "5356   Creedence Clearwater Revival  10613           3\n",
              "5809                      Daft Punk  13424           3\n",
              "7961                         Eminem  12448           3\n",
              "8729               Five Iron Frenzy  10164           3\n",
              "12405                    John Mayer  14522           3\n",
              "14068                     Lady GaGa   9538           3\n",
              "14896                 Lonnie Gordon  10585           3\n",
              "17298                          Muse  11417           3\n",
              "17835                    Nickelback  10215           3\n",
              "18719                      Paramore   9337           3\n",
              "19875                     Radiohead  13245           3\n",
              "19971                     Rammstein   9848           3\n",
              "20529                  Rise Against  10225           3\n",
              "21163                     Sam Cooke  11712           3\n",
              "23533                  Taylor Swift  11250           3\n",
              "24746                   The Killers  12837           3\n",
              "26579                      Tub Ring  10881           3"
            ]
          },
          "metadata": {
            "tags": []
          },
          "execution_count": 80
        }
      ]
    },
    {
      "cell_type": "code",
      "metadata": {
        "id": "KaYoWCzEJtLW"
      },
      "source": [
        "user_data = song_df[['user_id','freq']]"
      ],
      "execution_count": 81,
      "outputs": []
    },
    {
      "cell_type": "code",
      "metadata": {
        "colab": {
          "base_uri": "https://localhost:8080/",
          "height": 203
        },
        "id": "tsXNM4RbKZo2",
        "outputId": "5a712877-12f8-488a-f57c-c9d11321a0d5"
      },
      "source": [
        "user_data.head()"
      ],
      "execution_count": 82,
      "outputs": [
        {
          "output_type": "execute_result",
          "data": {
            "text/html": [
              "<div>\n",
              "<style scoped>\n",
              "    .dataframe tbody tr th:only-of-type {\n",
              "        vertical-align: middle;\n",
              "    }\n",
              "\n",
              "    .dataframe tbody tr th {\n",
              "        vertical-align: top;\n",
              "    }\n",
              "\n",
              "    .dataframe thead th {\n",
              "        text-align: right;\n",
              "    }\n",
              "</style>\n",
              "<table border=\"1\" class=\"dataframe\">\n",
              "  <thead>\n",
              "    <tr style=\"text-align: right;\">\n",
              "      <th></th>\n",
              "      <th>user_id</th>\n",
              "      <th>freq</th>\n",
              "    </tr>\n",
              "  </thead>\n",
              "  <tbody>\n",
              "    <tr>\n",
              "      <th>0</th>\n",
              "      <td>fd50c4007b68a3737fe052d5a4f78ce8aa117f3d</td>\n",
              "      <td>1</td>\n",
              "    </tr>\n",
              "    <tr>\n",
              "      <th>1</th>\n",
              "      <td>fd50c4007b68a3737fe052d5a4f78ce8aa117f3d</td>\n",
              "      <td>1</td>\n",
              "    </tr>\n",
              "    <tr>\n",
              "      <th>2</th>\n",
              "      <td>fd50c4007b68a3737fe052d5a4f78ce8aa117f3d</td>\n",
              "      <td>1</td>\n",
              "    </tr>\n",
              "    <tr>\n",
              "      <th>3</th>\n",
              "      <td>fd50c4007b68a3737fe052d5a4f78ce8aa117f3d</td>\n",
              "      <td>1</td>\n",
              "    </tr>\n",
              "    <tr>\n",
              "      <th>4</th>\n",
              "      <td>fd50c4007b68a3737fe052d5a4f78ce8aa117f3d</td>\n",
              "      <td>1</td>\n",
              "    </tr>\n",
              "  </tbody>\n",
              "</table>\n",
              "</div>"
            ],
            "text/plain": [
              "                                    user_id  freq\n",
              "0  fd50c4007b68a3737fe052d5a4f78ce8aa117f3d     1\n",
              "1  fd50c4007b68a3737fe052d5a4f78ce8aa117f3d     1\n",
              "2  fd50c4007b68a3737fe052d5a4f78ce8aa117f3d     1\n",
              "3  fd50c4007b68a3737fe052d5a4f78ce8aa117f3d     1\n",
              "4  fd50c4007b68a3737fe052d5a4f78ce8aa117f3d     1"
            ]
          },
          "metadata": {
            "tags": []
          },
          "execution_count": 82
        }
      ]
    },
    {
      "cell_type": "code",
      "metadata": {
        "id": "hfX5zbr9Kbeu"
      },
      "source": [
        "user_aggr = user_data.groupby('user_id', as_index=False).sum()"
      ],
      "execution_count": 83,
      "outputs": []
    },
    {
      "cell_type": "code",
      "metadata": {
        "colab": {
          "base_uri": "https://localhost:8080/",
          "height": 203
        },
        "id": "935MsGx0KdpO",
        "outputId": "5e6acc2f-9119-461d-f717-6c3fb0b081cc"
      },
      "source": [
        "user_aggr.head()"
      ],
      "execution_count": 84,
      "outputs": [
        {
          "output_type": "execute_result",
          "data": {
            "text/html": [
              "<div>\n",
              "<style scoped>\n",
              "    .dataframe tbody tr th:only-of-type {\n",
              "        vertical-align: middle;\n",
              "    }\n",
              "\n",
              "    .dataframe tbody tr th {\n",
              "        vertical-align: top;\n",
              "    }\n",
              "\n",
              "    .dataframe thead th {\n",
              "        text-align: right;\n",
              "    }\n",
              "</style>\n",
              "<table border=\"1\" class=\"dataframe\">\n",
              "  <thead>\n",
              "    <tr style=\"text-align: right;\">\n",
              "      <th></th>\n",
              "      <th>user_id</th>\n",
              "      <th>freq</th>\n",
              "    </tr>\n",
              "  </thead>\n",
              "  <tbody>\n",
              "    <tr>\n",
              "      <th>0</th>\n",
              "      <td>00007a02388c208ea7176479f6ae06f8224355b3</td>\n",
              "      <td>13</td>\n",
              "    </tr>\n",
              "    <tr>\n",
              "      <th>1</th>\n",
              "      <td>00014a76ed063e1a749171a253bca9d9a0ff1782</td>\n",
              "      <td>24</td>\n",
              "    </tr>\n",
              "    <tr>\n",
              "      <th>2</th>\n",
              "      <td>00015189668691680bb1a2e58afde1541ec92ced</td>\n",
              "      <td>101</td>\n",
              "    </tr>\n",
              "    <tr>\n",
              "      <th>3</th>\n",
              "      <td>0001ff7aa2667c8d8b945317b88adaed1c0b9dc2</td>\n",
              "      <td>12</td>\n",
              "    </tr>\n",
              "    <tr>\n",
              "      <th>4</th>\n",
              "      <td>00020fcd8b01986a6a85b896ccde6c49f35142ad</td>\n",
              "      <td>44</td>\n",
              "    </tr>\n",
              "  </tbody>\n",
              "</table>\n",
              "</div>"
            ],
            "text/plain": [
              "                                    user_id  freq\n",
              "0  00007a02388c208ea7176479f6ae06f8224355b3    13\n",
              "1  00014a76ed063e1a749171a253bca9d9a0ff1782    24\n",
              "2  00015189668691680bb1a2e58afde1541ec92ced   101\n",
              "3  0001ff7aa2667c8d8b945317b88adaed1c0b9dc2    12\n",
              "4  00020fcd8b01986a6a85b896ccde6c49f35142ad    44"
            ]
          },
          "metadata": {
            "tags": []
          },
          "execution_count": 84
        }
      ]
    },
    {
      "cell_type": "code",
      "metadata": {
        "colab": {
          "base_uri": "https://localhost:8080/"
        },
        "id": "4s0Bk39cKfxM",
        "outputId": "dffd3eb0-4a21-49cc-f7a6-54d535d1548a"
      },
      "source": [
        "user_aggr.shape"
      ],
      "execution_count": 85,
      "outputs": [
        {
          "output_type": "execute_result",
          "data": {
            "text/plain": [
              "(110000, 2)"
            ]
          },
          "metadata": {
            "tags": []
          },
          "execution_count": 85
        }
      ]
    },
    {
      "cell_type": "code",
      "metadata": {
        "colab": {
          "base_uri": "https://localhost:8080/"
        },
        "id": "9RU8WmdDKkUA",
        "outputId": "46585069-f9d4-4850-c812-b5bcaeec2218"
      },
      "source": [
        "song_df.shape"
      ],
      "execution_count": 86,
      "outputs": [
        {
          "output_type": "execute_result",
          "data": {
            "text/plain": [
              "(1450933, 5)"
            ]
          },
          "metadata": {
            "tags": []
          },
          "execution_count": 86
        }
      ]
    },
    {
      "cell_type": "markdown",
      "metadata": {
        "id": "WEVRn1W3KtkP"
      },
      "source": [
        "# clustering on user data"
      ]
    },
    {
      "cell_type": "code",
      "metadata": {
        "id": "pfWD0pOxKnpG"
      },
      "source": [
        "user_count = user_aggr[['freq']]"
      ],
      "execution_count": 87,
      "outputs": []
    },
    {
      "cell_type": "code",
      "metadata": {
        "colab": {
          "base_uri": "https://localhost:8080/",
          "height": 203
        },
        "id": "_2Hzm7WEKzyd",
        "outputId": "a7678b69-d689-4109-d615-62d9bae359ad"
      },
      "source": [
        "user_count.head()"
      ],
      "execution_count": 88,
      "outputs": [
        {
          "output_type": "execute_result",
          "data": {
            "text/html": [
              "<div>\n",
              "<style scoped>\n",
              "    .dataframe tbody tr th:only-of-type {\n",
              "        vertical-align: middle;\n",
              "    }\n",
              "\n",
              "    .dataframe tbody tr th {\n",
              "        vertical-align: top;\n",
              "    }\n",
              "\n",
              "    .dataframe thead th {\n",
              "        text-align: right;\n",
              "    }\n",
              "</style>\n",
              "<table border=\"1\" class=\"dataframe\">\n",
              "  <thead>\n",
              "    <tr style=\"text-align: right;\">\n",
              "      <th></th>\n",
              "      <th>freq</th>\n",
              "    </tr>\n",
              "  </thead>\n",
              "  <tbody>\n",
              "    <tr>\n",
              "      <th>0</th>\n",
              "      <td>13</td>\n",
              "    </tr>\n",
              "    <tr>\n",
              "      <th>1</th>\n",
              "      <td>24</td>\n",
              "    </tr>\n",
              "    <tr>\n",
              "      <th>2</th>\n",
              "      <td>101</td>\n",
              "    </tr>\n",
              "    <tr>\n",
              "      <th>3</th>\n",
              "      <td>12</td>\n",
              "    </tr>\n",
              "    <tr>\n",
              "      <th>4</th>\n",
              "      <td>44</td>\n",
              "    </tr>\n",
              "  </tbody>\n",
              "</table>\n",
              "</div>"
            ],
            "text/plain": [
              "   freq\n",
              "0    13\n",
              "1    24\n",
              "2   101\n",
              "3    12\n",
              "4    44"
            ]
          },
          "metadata": {
            "tags": []
          },
          "execution_count": 88
        }
      ]
    },
    {
      "cell_type": "code",
      "metadata": {
        "id": "VeKkrNnVK39o"
      },
      "source": [
        "km2 = KMeans(n_clusters=10)"
      ],
      "execution_count": 89,
      "outputs": []
    },
    {
      "cell_type": "code",
      "metadata": {
        "colab": {
          "base_uri": "https://localhost:8080/"
        },
        "id": "zZYMyNH2K7Py",
        "outputId": "61c022a7-d9fd-4ecd-c2b6-f6bc0f588925"
      },
      "source": [
        "km2.fit(user_count)"
      ],
      "execution_count": 90,
      "outputs": [
        {
          "output_type": "execute_result",
          "data": {
            "text/plain": [
              "KMeans(algorithm='auto', copy_x=True, init='k-means++', max_iter=300,\n",
              "       n_clusters=10, n_init=10, n_jobs=None, precompute_distances='auto',\n",
              "       random_state=None, tol=0.0001, verbose=0)"
            ]
          },
          "metadata": {
            "tags": []
          },
          "execution_count": 90
        }
      ]
    },
    {
      "cell_type": "code",
      "metadata": {
        "id": "fLXKOg21K8xE"
      },
      "source": [
        "label2 = km2.labels_"
      ],
      "execution_count": 91,
      "outputs": []
    },
    {
      "cell_type": "code",
      "metadata": {
        "colab": {
          "base_uri": "https://localhost:8080/"
        },
        "id": "PhyJS_nzK_rD",
        "outputId": "c0fb31d8-16b0-475c-ebcc-2b7e972c76e3"
      },
      "source": [
        "label2"
      ],
      "execution_count": 92,
      "outputs": [
        {
          "output_type": "execute_result",
          "data": {
            "text/plain": [
              "array([4, 1, 2, ..., 2, 6, 7], dtype=int32)"
            ]
          },
          "metadata": {
            "tags": []
          },
          "execution_count": 92
        }
      ]
    },
    {
      "cell_type": "code",
      "metadata": {
        "id": "tNsSx1RPLBAY"
      },
      "source": [
        "user_aggr['cluster_id'] = label2"
      ],
      "execution_count": 93,
      "outputs": []
    },
    {
      "cell_type": "code",
      "metadata": {
        "colab": {
          "base_uri": "https://localhost:8080/",
          "height": 417
        },
        "id": "g8-CQbUGLDCL",
        "outputId": "6376db84-30c9-4b07-a1e0-55d5c543b1f2"
      },
      "source": [
        "user_aggr[user_aggr['cluster_id']==3]"
      ],
      "execution_count": 94,
      "outputs": [
        {
          "output_type": "execute_result",
          "data": {
            "text/html": [
              "<div>\n",
              "<style scoped>\n",
              "    .dataframe tbody tr th:only-of-type {\n",
              "        vertical-align: middle;\n",
              "    }\n",
              "\n",
              "    .dataframe tbody tr th {\n",
              "        vertical-align: top;\n",
              "    }\n",
              "\n",
              "    .dataframe thead th {\n",
              "        text-align: right;\n",
              "    }\n",
              "</style>\n",
              "<table border=\"1\" class=\"dataframe\">\n",
              "  <thead>\n",
              "    <tr style=\"text-align: right;\">\n",
              "      <th></th>\n",
              "      <th>user_id</th>\n",
              "      <th>freq</th>\n",
              "      <th>cluster_id</th>\n",
              "    </tr>\n",
              "  </thead>\n",
              "  <tbody>\n",
              "    <tr>\n",
              "      <th>558</th>\n",
              "      <td>0138b1842d6e47baf4b789b4ea8fe461fc5ee869</td>\n",
              "      <td>334</td>\n",
              "      <td>3</td>\n",
              "    </tr>\n",
              "    <tr>\n",
              "      <th>735</th>\n",
              "      <td>01a62ddceb14b92e35db3c1c3deac2f26b7a2bd3</td>\n",
              "      <td>429</td>\n",
              "      <td>3</td>\n",
              "    </tr>\n",
              "    <tr>\n",
              "      <th>759</th>\n",
              "      <td>01b2e8ef63b0fe7916290c9c3f7fd6dab57983a7</td>\n",
              "      <td>420</td>\n",
              "      <td>3</td>\n",
              "    </tr>\n",
              "    <tr>\n",
              "      <th>1312</th>\n",
              "      <td>02f50f3698fbd3cdd9ae777d450f23b8f682eec5</td>\n",
              "      <td>322</td>\n",
              "      <td>3</td>\n",
              "    </tr>\n",
              "    <tr>\n",
              "      <th>1608</th>\n",
              "      <td>03b2c9d9d6ee9676e04ac6a3e130816c6edcd1bf</td>\n",
              "      <td>326</td>\n",
              "      <td>3</td>\n",
              "    </tr>\n",
              "    <tr>\n",
              "      <th>...</th>\n",
              "      <td>...</td>\n",
              "      <td>...</td>\n",
              "      <td>...</td>\n",
              "    </tr>\n",
              "    <tr>\n",
              "      <th>109017</th>\n",
              "      <td>fdc6937fc232398b9ef707cf0fcf0f1b5ba0baf8</td>\n",
              "      <td>429</td>\n",
              "      <td>3</td>\n",
              "    </tr>\n",
              "    <tr>\n",
              "      <th>109076</th>\n",
              "      <td>fde8a5aeb5df3d655256c8d0605f541eb2d36d52</td>\n",
              "      <td>349</td>\n",
              "      <td>3</td>\n",
              "    </tr>\n",
              "    <tr>\n",
              "      <th>109243</th>\n",
              "      <td>fe51720fdc60ead34b65ec4a5bdc094f0da46657</td>\n",
              "      <td>380</td>\n",
              "      <td>3</td>\n",
              "    </tr>\n",
              "    <tr>\n",
              "      <th>109293</th>\n",
              "      <td>fe6baffd1ecdb13956585ec1942bc28314dfda5e</td>\n",
              "      <td>457</td>\n",
              "      <td>3</td>\n",
              "    </tr>\n",
              "    <tr>\n",
              "      <th>109685</th>\n",
              "      <td>ff511fa7338117958042d2a698513697a736bc8e</td>\n",
              "      <td>410</td>\n",
              "      <td>3</td>\n",
              "    </tr>\n",
              "  </tbody>\n",
              "</table>\n",
              "<p>478 rows × 3 columns</p>\n",
              "</div>"
            ],
            "text/plain": [
              "                                         user_id  freq  cluster_id\n",
              "558     0138b1842d6e47baf4b789b4ea8fe461fc5ee869   334           3\n",
              "735     01a62ddceb14b92e35db3c1c3deac2f26b7a2bd3   429           3\n",
              "759     01b2e8ef63b0fe7916290c9c3f7fd6dab57983a7   420           3\n",
              "1312    02f50f3698fbd3cdd9ae777d450f23b8f682eec5   322           3\n",
              "1608    03b2c9d9d6ee9676e04ac6a3e130816c6edcd1bf   326           3\n",
              "...                                          ...   ...         ...\n",
              "109017  fdc6937fc232398b9ef707cf0fcf0f1b5ba0baf8   429           3\n",
              "109076  fde8a5aeb5df3d655256c8d0605f541eb2d36d52   349           3\n",
              "109243  fe51720fdc60ead34b65ec4a5bdc094f0da46657   380           3\n",
              "109293  fe6baffd1ecdb13956585ec1942bc28314dfda5e   457           3\n",
              "109685  ff511fa7338117958042d2a698513697a736bc8e   410           3\n",
              "\n",
              "[478 rows x 3 columns]"
            ]
          },
          "metadata": {
            "tags": []
          },
          "execution_count": 94
        }
      ]
    },
    {
      "cell_type": "code",
      "metadata": {
        "colab": {
          "base_uri": "https://localhost:8080/",
          "height": 417
        },
        "id": "mbBHRK70LEzL",
        "outputId": "e64e0586-0029-4d2b-8c47-d390e3ae3e18"
      },
      "source": [
        "song_df[song_df['artist_name'].isnull()]#checking whether the artist name is present or not"
      ],
      "execution_count": 95,
      "outputs": [
        {
          "output_type": "execute_result",
          "data": {
            "text/html": [
              "<div>\n",
              "<style scoped>\n",
              "    .dataframe tbody tr th:only-of-type {\n",
              "        vertical-align: middle;\n",
              "    }\n",
              "\n",
              "    .dataframe tbody tr th {\n",
              "        vertical-align: top;\n",
              "    }\n",
              "\n",
              "    .dataframe thead th {\n",
              "        text-align: right;\n",
              "    }\n",
              "</style>\n",
              "<table border=\"1\" class=\"dataframe\">\n",
              "  <thead>\n",
              "    <tr style=\"text-align: right;\">\n",
              "      <th></th>\n",
              "      <th>user_id</th>\n",
              "      <th>song_id</th>\n",
              "      <th>freq</th>\n",
              "      <th>artist_name</th>\n",
              "      <th>release</th>\n",
              "    </tr>\n",
              "  </thead>\n",
              "  <tbody>\n",
              "    <tr>\n",
              "      <th>73</th>\n",
              "      <td>c34670d9c1718361feb93068a853cead3c95b76a</td>\n",
              "      <td>SOEHWGF12A6D4F8B2B</td>\n",
              "      <td>3</td>\n",
              "      <td>NaN</td>\n",
              "      <td>NaN</td>\n",
              "    </tr>\n",
              "    <tr>\n",
              "      <th>101</th>\n",
              "      <td>fdf6afb5daefb42774617cf223475c6013969724</td>\n",
              "      <td>SOONUTJ12A6701D7B4</td>\n",
              "      <td>1</td>\n",
              "      <td>NaN</td>\n",
              "      <td>NaN</td>\n",
              "    </tr>\n",
              "    <tr>\n",
              "      <th>109</th>\n",
              "      <td>fdf6afb5daefb42774617cf223475c6013969724</td>\n",
              "      <td>SOPWKOX12A8C139D43</td>\n",
              "      <td>1</td>\n",
              "      <td>NaN</td>\n",
              "      <td>NaN</td>\n",
              "    </tr>\n",
              "    <tr>\n",
              "      <th>110</th>\n",
              "      <td>10cbcd627472477dfbec90fb75017f8df6ce84ec</td>\n",
              "      <td>SOTNWCI12AAF3B2028</td>\n",
              "      <td>1</td>\n",
              "      <td>NaN</td>\n",
              "      <td>NaN</td>\n",
              "    </tr>\n",
              "    <tr>\n",
              "      <th>122</th>\n",
              "      <td>e9dc6b4c2b22aa6dc8260e1963021567728055b2</td>\n",
              "      <td>SOPXKYD12A6D4FA876</td>\n",
              "      <td>6</td>\n",
              "      <td>NaN</td>\n",
              "      <td>NaN</td>\n",
              "    </tr>\n",
              "    <tr>\n",
              "      <th>...</th>\n",
              "      <td>...</td>\n",
              "      <td>...</td>\n",
              "      <td>...</td>\n",
              "      <td>...</td>\n",
              "      <td>...</td>\n",
              "    </tr>\n",
              "    <tr>\n",
              "      <th>1450745</th>\n",
              "      <td>153832123c017bcdb1e55a9bec1eefcabd8bb2d1</td>\n",
              "      <td>SOQUJLT12A8C141F8A</td>\n",
              "      <td>3</td>\n",
              "      <td>NaN</td>\n",
              "      <td>NaN</td>\n",
              "    </tr>\n",
              "    <tr>\n",
              "      <th>1450749</th>\n",
              "      <td>ada735bfc101da8cf65ce71615138c3e08ea0e88</td>\n",
              "      <td>SOTSLEU12A6D4F8639</td>\n",
              "      <td>4</td>\n",
              "      <td>NaN</td>\n",
              "      <td>NaN</td>\n",
              "    </tr>\n",
              "    <tr>\n",
              "      <th>1450805</th>\n",
              "      <td>987b654b09b239f7c47751e0cfaa2990834cbb55</td>\n",
              "      <td>SODWYJZ12AB018240F</td>\n",
              "      <td>3</td>\n",
              "      <td>NaN</td>\n",
              "      <td>NaN</td>\n",
              "    </tr>\n",
              "    <tr>\n",
              "      <th>1450829</th>\n",
              "      <td>6b6d43eb0a1a6bdf471cebe380524946884746c6</td>\n",
              "      <td>SOUAUMW12A8C140570</td>\n",
              "      <td>1</td>\n",
              "      <td>NaN</td>\n",
              "      <td>NaN</td>\n",
              "    </tr>\n",
              "    <tr>\n",
              "      <th>1450869</th>\n",
              "      <td>07f2f354a2a4390624e0d04e4a555ef67e98f673</td>\n",
              "      <td>SOWCKVR12A8C142411</td>\n",
              "      <td>4</td>\n",
              "      <td>NaN</td>\n",
              "      <td>NaN</td>\n",
              "    </tr>\n",
              "  </tbody>\n",
              "</table>\n",
              "<p>39009 rows × 5 columns</p>\n",
              "</div>"
            ],
            "text/plain": [
              "                                          user_id  ... release\n",
              "73       c34670d9c1718361feb93068a853cead3c95b76a  ...     NaN\n",
              "101      fdf6afb5daefb42774617cf223475c6013969724  ...     NaN\n",
              "109      fdf6afb5daefb42774617cf223475c6013969724  ...     NaN\n",
              "110      10cbcd627472477dfbec90fb75017f8df6ce84ec  ...     NaN\n",
              "122      e9dc6b4c2b22aa6dc8260e1963021567728055b2  ...     NaN\n",
              "...                                           ...  ...     ...\n",
              "1450745  153832123c017bcdb1e55a9bec1eefcabd8bb2d1  ...     NaN\n",
              "1450749  ada735bfc101da8cf65ce71615138c3e08ea0e88  ...     NaN\n",
              "1450805  987b654b09b239f7c47751e0cfaa2990834cbb55  ...     NaN\n",
              "1450829  6b6d43eb0a1a6bdf471cebe380524946884746c6  ...     NaN\n",
              "1450869  07f2f354a2a4390624e0d04e4a555ef67e98f673  ...     NaN\n",
              "\n",
              "[39009 rows x 5 columns]"
            ]
          },
          "metadata": {
            "tags": []
          },
          "execution_count": 95
        }
      ]
    },
    {
      "cell_type": "code",
      "metadata": {
        "id": "VMmNRXExi6oa"
      },
      "source": [
        "if song_df['artist_name'].isnull().sum() > 0:\n",
        "    song_df = song_df.dropna(axis = 0, subset = ['artist_name'])#removing the data whose artist name has nan"
      ],
      "execution_count": 96,
      "outputs": []
    },
    {
      "cell_type": "code",
      "metadata": {
        "colab": {
          "base_uri": "https://localhost:8080/",
          "height": 49
        },
        "id": "HwHF2wjAjNRd",
        "outputId": "0b112a5b-fcd6-4dc9-bd4e-76bbe7efd9f6"
      },
      "source": [
        "song_df[song_df['artist_name'].isnull()]#checking the artist name has nan  after removing some rows "
      ],
      "execution_count": 97,
      "outputs": [
        {
          "output_type": "execute_result",
          "data": {
            "text/html": [
              "<div>\n",
              "<style scoped>\n",
              "    .dataframe tbody tr th:only-of-type {\n",
              "        vertical-align: middle;\n",
              "    }\n",
              "\n",
              "    .dataframe tbody tr th {\n",
              "        vertical-align: top;\n",
              "    }\n",
              "\n",
              "    .dataframe thead th {\n",
              "        text-align: right;\n",
              "    }\n",
              "</style>\n",
              "<table border=\"1\" class=\"dataframe\">\n",
              "  <thead>\n",
              "    <tr style=\"text-align: right;\">\n",
              "      <th></th>\n",
              "      <th>user_id</th>\n",
              "      <th>song_id</th>\n",
              "      <th>freq</th>\n",
              "      <th>artist_name</th>\n",
              "      <th>release</th>\n",
              "    </tr>\n",
              "  </thead>\n",
              "  <tbody>\n",
              "  </tbody>\n",
              "</table>\n",
              "</div>"
            ],
            "text/plain": [
              "Empty DataFrame\n",
              "Columns: [user_id, song_id, freq, artist_name, release]\n",
              "Index: []"
            ]
          },
          "metadata": {
            "tags": []
          },
          "execution_count": 97
        }
      ]
    },
    {
      "cell_type": "code",
      "metadata": {
        "colab": {
          "base_uri": "https://localhost:8080/",
          "height": 203
        },
        "id": "61j_b8dDjTAE",
        "outputId": "e7656320-d59b-405d-ff26-25f8cb4dbc7a"
      },
      "source": [
        "artist_plays = (song_df.\n",
        "     groupby(by = ['artist_name'])['freq'].\n",
        "     sum().\n",
        "     reset_index().\n",
        "    rename(columns = {'freq': 'total_artist_plays'})\n",
        "     [['artist_name', 'total_artist_plays']])\n",
        "artist_plays.head()"
      ],
      "execution_count": 98,
      "outputs": [
        {
          "output_type": "execute_result",
          "data": {
            "text/html": [
              "<div>\n",
              "<style scoped>\n",
              "    .dataframe tbody tr th:only-of-type {\n",
              "        vertical-align: middle;\n",
              "    }\n",
              "\n",
              "    .dataframe tbody tr th {\n",
              "        vertical-align: top;\n",
              "    }\n",
              "\n",
              "    .dataframe thead th {\n",
              "        text-align: right;\n",
              "    }\n",
              "</style>\n",
              "<table border=\"1\" class=\"dataframe\">\n",
              "  <thead>\n",
              "    <tr style=\"text-align: right;\">\n",
              "      <th></th>\n",
              "      <th>artist_name</th>\n",
              "      <th>total_artist_plays</th>\n",
              "    </tr>\n",
              "  </thead>\n",
              "  <tbody>\n",
              "    <tr>\n",
              "      <th>0</th>\n",
              "      <td>!!!</td>\n",
              "      <td>325</td>\n",
              "    </tr>\n",
              "    <tr>\n",
              "      <th>1</th>\n",
              "      <td>!Deladap</td>\n",
              "      <td>8</td>\n",
              "    </tr>\n",
              "    <tr>\n",
              "      <th>2</th>\n",
              "      <td>&amp; And Oceans</td>\n",
              "      <td>9</td>\n",
              "    </tr>\n",
              "    <tr>\n",
              "      <th>3</th>\n",
              "      <td>'68 Comeback</td>\n",
              "      <td>49</td>\n",
              "    </tr>\n",
              "    <tr>\n",
              "      <th>4</th>\n",
              "      <td>'N Sync/Phil Collins</td>\n",
              "      <td>344</td>\n",
              "    </tr>\n",
              "  </tbody>\n",
              "</table>\n",
              "</div>"
            ],
            "text/plain": [
              "            artist_name  total_artist_plays\n",
              "0                   !!!                 325\n",
              "1              !Deladap                   8\n",
              "2          & And Oceans                   9\n",
              "3          '68 Comeback                  49\n",
              "4  'N Sync/Phil Collins                 344"
            ]
          },
          "metadata": {
            "tags": []
          },
          "execution_count": 98
        }
      ]
    },
    {
      "cell_type": "code",
      "metadata": {
        "colab": {
          "base_uri": "https://localhost:8080/"
        },
        "id": "wlS6KQChkX10",
        "outputId": "d7fcee8c-8cd7-4e95-cf82-ab1f404cae1e"
      },
      "source": [
        "artist_plays['artist_name']"
      ],
      "execution_count": 99,
      "outputs": [
        {
          "output_type": "execute_result",
          "data": {
            "text/plain": [
              "0                         !!!\n",
              "1                    !Deladap\n",
              "2                & And Oceans\n",
              "3                '68 Comeback\n",
              "4        'N Sync/Phil Collins\n",
              "                 ...         \n",
              "28332            Étienne Daho\n",
              "28333                     Íon\n",
              "28334          Ólafur Arnalds\n",
              "28335             Órla Fallon\n",
              "28336             Özlem Tekin\n",
              "Name: artist_name, Length: 28337, dtype: object"
            ]
          },
          "metadata": {
            "tags": []
          },
          "execution_count": 99
        }
      ]
    },
    {
      "cell_type": "code",
      "metadata": {
        "colab": {
          "base_uri": "https://localhost:8080/",
          "height": 80
        },
        "id": "0IqLFMYokGv-",
        "outputId": "286c8523-6ab1-4975-ba63-34942c19c5d3"
      },
      "source": [
        "artist_plays[artist_plays['artist_name']==\"!Deladap\"]"
      ],
      "execution_count": 100,
      "outputs": [
        {
          "output_type": "execute_result",
          "data": {
            "text/html": [
              "<div>\n",
              "<style scoped>\n",
              "    .dataframe tbody tr th:only-of-type {\n",
              "        vertical-align: middle;\n",
              "    }\n",
              "\n",
              "    .dataframe tbody tr th {\n",
              "        vertical-align: top;\n",
              "    }\n",
              "\n",
              "    .dataframe thead th {\n",
              "        text-align: right;\n",
              "    }\n",
              "</style>\n",
              "<table border=\"1\" class=\"dataframe\">\n",
              "  <thead>\n",
              "    <tr style=\"text-align: right;\">\n",
              "      <th></th>\n",
              "      <th>artist_name</th>\n",
              "      <th>total_artist_plays</th>\n",
              "    </tr>\n",
              "  </thead>\n",
              "  <tbody>\n",
              "    <tr>\n",
              "      <th>1</th>\n",
              "      <td>!Deladap</td>\n",
              "      <td>8</td>\n",
              "    </tr>\n",
              "  </tbody>\n",
              "</table>\n",
              "</div>"
            ],
            "text/plain": [
              "  artist_name  total_artist_plays\n",
              "1    !Deladap                   8"
            ]
          },
          "metadata": {
            "tags": []
          },
          "execution_count": 100
        }
      ]
    },
    {
      "cell_type": "code",
      "metadata": {
        "colab": {
          "base_uri": "https://localhost:8080/",
          "height": 237
        },
        "id": "9Ecqmjpckg26",
        "outputId": "c4460006-707a-4b56-aefa-f5e62e375b89"
      },
      "source": [
        "user_data_with_artist_plays = song_df.merge(artist_plays, left_on = 'artist_name', right_on = 'artist_name', how = 'left')\n",
        "user_data_with_artist_plays.head()#out of 35688 fd50c4007b68a3737fe052d5a4f78ce8aa117f3d user has listened for only once"
      ],
      "execution_count": 101,
      "outputs": [
        {
          "output_type": "execute_result",
          "data": {
            "text/html": [
              "<div>\n",
              "<style scoped>\n",
              "    .dataframe tbody tr th:only-of-type {\n",
              "        vertical-align: middle;\n",
              "    }\n",
              "\n",
              "    .dataframe tbody tr th {\n",
              "        vertical-align: top;\n",
              "    }\n",
              "\n",
              "    .dataframe thead th {\n",
              "        text-align: right;\n",
              "    }\n",
              "</style>\n",
              "<table border=\"1\" class=\"dataframe\">\n",
              "  <thead>\n",
              "    <tr style=\"text-align: right;\">\n",
              "      <th></th>\n",
              "      <th>user_id</th>\n",
              "      <th>song_id</th>\n",
              "      <th>freq</th>\n",
              "      <th>artist_name</th>\n",
              "      <th>release</th>\n",
              "      <th>total_artist_plays</th>\n",
              "    </tr>\n",
              "  </thead>\n",
              "  <tbody>\n",
              "    <tr>\n",
              "      <th>0</th>\n",
              "      <td>fd50c4007b68a3737fe052d5a4f78ce8aa117f3d</td>\n",
              "      <td>SOBONKR12A58A7A7E0</td>\n",
              "      <td>1</td>\n",
              "      <td>Dwight Yoakam</td>\n",
              "      <td>You're The One</td>\n",
              "      <td>35688</td>\n",
              "    </tr>\n",
              "    <tr>\n",
              "      <th>1</th>\n",
              "      <td>fd50c4007b68a3737fe052d5a4f78ce8aa117f3d</td>\n",
              "      <td>SOEGIYH12A6D4FC0E3</td>\n",
              "      <td>1</td>\n",
              "      <td>Barry Tuckwell/Academy of St Martin-in-the-Fie...</td>\n",
              "      <td>Horn Concerto No. 4 in E flat K495: II. Romanc...</td>\n",
              "      <td>17124</td>\n",
              "    </tr>\n",
              "    <tr>\n",
              "      <th>2</th>\n",
              "      <td>fd50c4007b68a3737fe052d5a4f78ce8aa117f3d</td>\n",
              "      <td>SOFLJQZ12A6D4FADA6</td>\n",
              "      <td>1</td>\n",
              "      <td>Cartola</td>\n",
              "      <td>Tive Sim</td>\n",
              "      <td>10369</td>\n",
              "    </tr>\n",
              "    <tr>\n",
              "      <th>3</th>\n",
              "      <td>fd50c4007b68a3737fe052d5a4f78ce8aa117f3d</td>\n",
              "      <td>SOHTKMO12AB01843B0</td>\n",
              "      <td>1</td>\n",
              "      <td>Lonnie Gordon</td>\n",
              "      <td>Catch You Baby (Steve Pitron &amp; Max Sanna Radio...</td>\n",
              "      <td>10585</td>\n",
              "    </tr>\n",
              "    <tr>\n",
              "      <th>4</th>\n",
              "      <td>fd50c4007b68a3737fe052d5a4f78ce8aa117f3d</td>\n",
              "      <td>SODQZCY12A6D4F9D11</td>\n",
              "      <td>1</td>\n",
              "      <td>Miguel Calo</td>\n",
              "      <td>El Cuatrero</td>\n",
              "      <td>737</td>\n",
              "    </tr>\n",
              "  </tbody>\n",
              "</table>\n",
              "</div>"
            ],
            "text/plain": [
              "                                    user_id  ... total_artist_plays\n",
              "0  fd50c4007b68a3737fe052d5a4f78ce8aa117f3d  ...              35688\n",
              "1  fd50c4007b68a3737fe052d5a4f78ce8aa117f3d  ...              17124\n",
              "2  fd50c4007b68a3737fe052d5a4f78ce8aa117f3d  ...              10369\n",
              "3  fd50c4007b68a3737fe052d5a4f78ce8aa117f3d  ...              10585\n",
              "4  fd50c4007b68a3737fe052d5a4f78ce8aa117f3d  ...                737\n",
              "\n",
              "[5 rows x 6 columns]"
            ]
          },
          "metadata": {
            "tags": []
          },
          "execution_count": 101
        }
      ]
    },
    {
      "cell_type": "code",
      "metadata": {
        "colab": {
          "base_uri": "https://localhost:8080/"
        },
        "id": "iP6bIC5wk_lc",
        "outputId": "797ff8da-9f3f-463e-95c6-0a4fb98b7437"
      },
      "source": [
        "artist_plays['total_artist_plays'].describe()"
      ],
      "execution_count": 102,
      "outputs": [
        {
          "output_type": "execute_result",
          "data": {
            "text/plain": [
              "count    28337.000000\n",
              "mean       159.171507\n",
              "std        789.327789\n",
              "min          1.000000\n",
              "25%          4.000000\n",
              "50%         17.000000\n",
              "75%         77.000000\n",
              "max      35688.000000\n",
              "Name: total_artist_plays, dtype: float64"
            ]
          },
          "metadata": {
            "tags": []
          },
          "execution_count": 102
        }
      ]
    },
    {
      "cell_type": "code",
      "metadata": {
        "colab": {
          "base_uri": "https://localhost:8080/"
        },
        "id": "prYoUMyAlhxq",
        "outputId": "29ff13a9-c706-4918-c6e7-9da1e9a0ce49"
      },
      "source": [
        "artist_plays['total_artist_plays'].max()"
      ],
      "execution_count": 103,
      "outputs": [
        {
          "output_type": "execute_result",
          "data": {
            "text/plain": [
              "35688"
            ]
          },
          "metadata": {
            "tags": []
          },
          "execution_count": 103
        }
      ]
    },
    {
      "cell_type": "code",
      "metadata": {
        "colab": {
          "base_uri": "https://localhost:8080/",
          "height": 80
        },
        "id": "-6TDlMkpljsq",
        "outputId": "808eefcf-0d12-44d2-bd99-0a21eb833e13"
      },
      "source": [
        "artist_plays[artist_plays['total_artist_plays']==artist_plays['total_artist_plays'].max()]"
      ],
      "execution_count": 104,
      "outputs": [
        {
          "output_type": "execute_result",
          "data": {
            "text/html": [
              "<div>\n",
              "<style scoped>\n",
              "    .dataframe tbody tr th:only-of-type {\n",
              "        vertical-align: middle;\n",
              "    }\n",
              "\n",
              "    .dataframe tbody tr th {\n",
              "        vertical-align: top;\n",
              "    }\n",
              "\n",
              "    .dataframe thead th {\n",
              "        text-align: right;\n",
              "    }\n",
              "</style>\n",
              "<table border=\"1\" class=\"dataframe\">\n",
              "  <thead>\n",
              "    <tr style=\"text-align: right;\">\n",
              "      <th></th>\n",
              "      <th>artist_name</th>\n",
              "      <th>total_artist_plays</th>\n",
              "    </tr>\n",
              "  </thead>\n",
              "  <tbody>\n",
              "    <tr>\n",
              "      <th>7428</th>\n",
              "      <td>Dwight Yoakam</td>\n",
              "      <td>35688</td>\n",
              "    </tr>\n",
              "  </tbody>\n",
              "</table>\n",
              "</div>"
            ],
            "text/plain": [
              "        artist_name  total_artist_plays\n",
              "7428  Dwight Yoakam               35688"
            ]
          },
          "metadata": {
            "tags": []
          },
          "execution_count": 104
        }
      ]
    },
    {
      "cell_type": "code",
      "metadata": {
        "colab": {
          "base_uri": "https://localhost:8080/"
        },
        "id": "HM0-xoAOlohD",
        "outputId": "10e0bae2-9b5f-4262-d1e9-fbfb9b6e165d"
      },
      "source": [
        "artist_plays['total_artist_plays'].value_counts()"
      ],
      "execution_count": 105,
      "outputs": [
        {
          "output_type": "execute_result",
          "data": {
            "text/plain": [
              "1       3400\n",
              "2       1865\n",
              "3       1249\n",
              "5       1017\n",
              "4        984\n",
              "        ... \n",
              "1576       1\n",
              "1528       1\n",
              "1480       1\n",
              "3497       1\n",
              "6147       1\n",
              "Name: total_artist_plays, Length: 1609, dtype: int64"
            ]
          },
          "metadata": {
            "tags": []
          },
          "execution_count": 105
        }
      ]
    },
    {
      "cell_type": "code",
      "metadata": {
        "colab": {
          "base_uri": "https://localhost:8080/",
          "height": 203
        },
        "id": "vBRsxfoUl3uy",
        "outputId": "50fb1600-42bd-40cc-e644-5428b90dce17"
      },
      "source": [
        "popularity_threshold = 30000\n",
        "user_data_popular_artists = user_data_with_artist_plays.query('total_artist_plays >= @popularity_threshold')\n",
        "user_data_popular_artists.head()"
      ],
      "execution_count": 106,
      "outputs": [
        {
          "output_type": "execute_result",
          "data": {
            "text/html": [
              "<div>\n",
              "<style scoped>\n",
              "    .dataframe tbody tr th:only-of-type {\n",
              "        vertical-align: middle;\n",
              "    }\n",
              "\n",
              "    .dataframe tbody tr th {\n",
              "        vertical-align: top;\n",
              "    }\n",
              "\n",
              "    .dataframe thead th {\n",
              "        text-align: right;\n",
              "    }\n",
              "</style>\n",
              "<table border=\"1\" class=\"dataframe\">\n",
              "  <thead>\n",
              "    <tr style=\"text-align: right;\">\n",
              "      <th></th>\n",
              "      <th>user_id</th>\n",
              "      <th>song_id</th>\n",
              "      <th>freq</th>\n",
              "      <th>artist_name</th>\n",
              "      <th>release</th>\n",
              "      <th>total_artist_plays</th>\n",
              "    </tr>\n",
              "  </thead>\n",
              "  <tbody>\n",
              "    <tr>\n",
              "      <th>0</th>\n",
              "      <td>fd50c4007b68a3737fe052d5a4f78ce8aa117f3d</td>\n",
              "      <td>SOBONKR12A58A7A7E0</td>\n",
              "      <td>1</td>\n",
              "      <td>Dwight Yoakam</td>\n",
              "      <td>You're The One</td>\n",
              "      <td>35688</td>\n",
              "    </tr>\n",
              "    <tr>\n",
              "      <th>73</th>\n",
              "      <td>c34670d9c1718361feb93068a853cead3c95b76a</td>\n",
              "      <td>SOAUWYT12A81C206F1</td>\n",
              "      <td>1</td>\n",
              "      <td>Björk</td>\n",
              "      <td>Undo</td>\n",
              "      <td>35210</td>\n",
              "    </tr>\n",
              "    <tr>\n",
              "      <th>76</th>\n",
              "      <td>c34670d9c1718361feb93068a853cead3c95b76a</td>\n",
              "      <td>SOBONKR12A58A7A7E0</td>\n",
              "      <td>1</td>\n",
              "      <td>Dwight Yoakam</td>\n",
              "      <td>You're The One</td>\n",
              "      <td>35688</td>\n",
              "    </tr>\n",
              "    <tr>\n",
              "      <th>251</th>\n",
              "      <td>4b9b549e84fb29bfbcf7ab34f01c0bcd1bbf93a5</td>\n",
              "      <td>SOAUWYT12A81C206F1</td>\n",
              "      <td>1</td>\n",
              "      <td>Björk</td>\n",
              "      <td>Undo</td>\n",
              "      <td>35210</td>\n",
              "    </tr>\n",
              "    <tr>\n",
              "      <th>294</th>\n",
              "      <td>c5006d9f41f68ccccbf5ee29212b6af494110c5e</td>\n",
              "      <td>SOBONKR12A58A7A7E0</td>\n",
              "      <td>1</td>\n",
              "      <td>Dwight Yoakam</td>\n",
              "      <td>You're The One</td>\n",
              "      <td>35688</td>\n",
              "    </tr>\n",
              "  </tbody>\n",
              "</table>\n",
              "</div>"
            ],
            "text/plain": [
              "                                      user_id  ... total_artist_plays\n",
              "0    fd50c4007b68a3737fe052d5a4f78ce8aa117f3d  ...              35688\n",
              "73   c34670d9c1718361feb93068a853cead3c95b76a  ...              35210\n",
              "76   c34670d9c1718361feb93068a853cead3c95b76a  ...              35688\n",
              "251  4b9b549e84fb29bfbcf7ab34f01c0bcd1bbf93a5  ...              35210\n",
              "294  c5006d9f41f68ccccbf5ee29212b6af494110c5e  ...              35688\n",
              "\n",
              "[5 rows x 6 columns]"
            ]
          },
          "metadata": {
            "tags": []
          },
          "execution_count": 106
        }
      ]
    },
    {
      "cell_type": "code",
      "metadata": {
        "colab": {
          "base_uri": "https://localhost:8080/"
        },
        "id": "hRS2_PS4m6PV",
        "outputId": "50078e23-e6e3-4e3f-f059-8824b9226856"
      },
      "source": [
        "song_df['freq'].max()"
      ],
      "execution_count": 107,
      "outputs": [
        {
          "output_type": "execute_result",
          "data": {
            "text/plain": [
              "923"
            ]
          },
          "metadata": {
            "tags": []
          },
          "execution_count": 107
        }
      ]
    },
    {
      "cell_type": "code",
      "metadata": {
        "colab": {
          "base_uri": "https://localhost:8080/",
          "height": 284
        },
        "id": "ksEajzmSmFb8",
        "outputId": "ae9d73f4-9ea8-4ddb-d4da-e501c1aa17df"
      },
      "source": [
        "user_data_with_artist_plays.query('freq>500')"
      ],
      "execution_count": 108,
      "outputs": [
        {
          "output_type": "execute_result",
          "data": {
            "text/html": [
              "<div>\n",
              "<style scoped>\n",
              "    .dataframe tbody tr th:only-of-type {\n",
              "        vertical-align: middle;\n",
              "    }\n",
              "\n",
              "    .dataframe tbody tr th {\n",
              "        vertical-align: top;\n",
              "    }\n",
              "\n",
              "    .dataframe thead th {\n",
              "        text-align: right;\n",
              "    }\n",
              "</style>\n",
              "<table border=\"1\" class=\"dataframe\">\n",
              "  <thead>\n",
              "    <tr style=\"text-align: right;\">\n",
              "      <th></th>\n",
              "      <th>user_id</th>\n",
              "      <th>song_id</th>\n",
              "      <th>freq</th>\n",
              "      <th>artist_name</th>\n",
              "      <th>release</th>\n",
              "      <th>total_artist_plays</th>\n",
              "    </tr>\n",
              "  </thead>\n",
              "  <tbody>\n",
              "    <tr>\n",
              "      <th>354284</th>\n",
              "      <td>9d12c30de5d9975f621f95f512699989ac544410</td>\n",
              "      <td>SOFFXAQ12A8AE45C2E</td>\n",
              "      <td>535</td>\n",
              "      <td>Fear My Thoughts</td>\n",
              "      <td>Death Chamber</td>\n",
              "      <td>753</td>\n",
              "    </tr>\n",
              "    <tr>\n",
              "      <th>458494</th>\n",
              "      <td>2d9ea6058d0872ccdc5b1c5c685758bb9c55f0a3</td>\n",
              "      <td>SOAOXTG12A67021AA7</td>\n",
              "      <td>597</td>\n",
              "      <td>Ms. Dynamite / Kymani Marley</td>\n",
              "      <td>Seed Will Grow</td>\n",
              "      <td>784</td>\n",
              "    </tr>\n",
              "    <tr>\n",
              "      <th>625391</th>\n",
              "      <td>a86e68128c6a48d3392db22ce1151a3bdccf5fcf</td>\n",
              "      <td>SOFVLYV12A8C145D8F</td>\n",
              "      <td>537</td>\n",
              "      <td>Us3</td>\n",
              "      <td>Believe In Yourself</td>\n",
              "      <td>834</td>\n",
              "    </tr>\n",
              "    <tr>\n",
              "      <th>815937</th>\n",
              "      <td>a1cc4d088600df2db42e6a305974675ffe8c905d</td>\n",
              "      <td>SOPMHHE12AB01845F6</td>\n",
              "      <td>646</td>\n",
              "      <td>The Beach Boys</td>\n",
              "      <td>What Is a Young Girl Made of</td>\n",
              "      <td>1931</td>\n",
              "    </tr>\n",
              "    <tr>\n",
              "      <th>1262911</th>\n",
              "      <td>69ad6b6a1d14d740eb8c2f013a19c1f8048cecde</td>\n",
              "      <td>SONGOJV12AF729AEBD</td>\n",
              "      <td>582</td>\n",
              "      <td>Queen</td>\n",
              "      <td>Somebody To Love</td>\n",
              "      <td>4214</td>\n",
              "    </tr>\n",
              "    <tr>\n",
              "      <th>1410202</th>\n",
              "      <td>22bb29714137fa47083963c30e1a26f1bf517e7d</td>\n",
              "      <td>SOXTUWG12AB018A2E2</td>\n",
              "      <td>923</td>\n",
              "      <td>Kilgore</td>\n",
              "      <td>Drop The Hammer (Album Version)</td>\n",
              "      <td>924</td>\n",
              "    </tr>\n",
              "  </tbody>\n",
              "</table>\n",
              "</div>"
            ],
            "text/plain": [
              "                                          user_id  ... total_artist_plays\n",
              "354284   9d12c30de5d9975f621f95f512699989ac544410  ...                753\n",
              "458494   2d9ea6058d0872ccdc5b1c5c685758bb9c55f0a3  ...                784\n",
              "625391   a86e68128c6a48d3392db22ce1151a3bdccf5fcf  ...                834\n",
              "815937   a1cc4d088600df2db42e6a305974675ffe8c905d  ...               1931\n",
              "1262911  69ad6b6a1d14d740eb8c2f013a19c1f8048cecde  ...               4214\n",
              "1410202  22bb29714137fa47083963c30e1a26f1bf517e7d  ...                924\n",
              "\n",
              "[6 rows x 6 columns]"
            ]
          },
          "metadata": {
            "tags": []
          },
          "execution_count": 108
        }
      ]
    },
    {
      "cell_type": "markdown",
      "metadata": {
        "id": "lhBZzWGo1Re1"
      },
      "source": [
        "# sparse matrix"
      ]
    },
    {
      "cell_type": "code",
      "metadata": {
        "id": "kOWZM0jN9gjA"
      },
      "source": [
        ""
      ],
      "execution_count": null,
      "outputs": []
    }
  ]
}